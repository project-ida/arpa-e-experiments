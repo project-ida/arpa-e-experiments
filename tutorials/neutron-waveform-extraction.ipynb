{
 "cells": [
  {
   "cell_type": "markdown",
   "metadata": {
    "id": "23ce122c-c3b5-4a7f-a8bb-448d8042509a"
   },
   "source": [
    "<a href=\"https://colab.research.google.com/github/project-ida/arpa-e-experiments/blob/main/tutorials/neutron-waveform-extraction.ipynb\" target=\"_parent\"><img src=\"https://colab.research.google.com/assets/colab-badge.svg\" alt=\"Open In Colab\"/></a> &nbsp;&nbsp;&nbsp;&nbsp;&nbsp;&nbsp;&nbsp;&nbsp;&nbsp;&nbsp;<a href=\"https://nbviewer.org/github/project-ida/arpa-e-experiments/blob/main/tutorials/neutron-waveform-extraction.ipynb\" target=\"_parent\"><img src=\"https://nbviewer.org/static/img/nav_logo.svg\" alt=\"Open In nbviewer\" width=\"100\"/></a>"
   ]
  },
  {
   "cell_type": "markdown",
   "metadata": {
    "id": "ydG__I6QBDGM"
   },
   "source": [
    "\n",
    "‼️ **Prerequisites** ‼️:\n",
    "- Access to the `Nucleonics` Google drive folder (it must also be added as a shortcut called \"Nucleonics\" in your own drive)\n",
    "- Access to the nucleonics `.env` folder (where sensitive info lives)"
   ]
  },
  {
   "cell_type": "markdown",
   "metadata": {
    "id": "oG6NQb5BBF0p"
   },
   "source": [
    "# Neutron waveform extraction\n",
    "\n",
    "This notebook extracts and visualises neutron event waveforms from a ROOT file. It relies on the [\"Nuclear particle master\"](https://docs.google.com/spreadsheets/d/1zgp8MplLXNAI1s7NAs7tCCVnv7N05AR4Q7x4hnE_PiA/edit?gid=0#gid=0) sheet to provide a PSP threshold value to separate neutrons from gammas. More information about how this PSP value has been calculated can be found in the [PSD Analysis notebook](https://github.com/project-ida/arpa-e-experiments/blob/main/tutorials/PSD-analysis.ipynb).\n",
    "\n",
    "\n"
   ]
  },
  {
   "cell_type": "markdown",
   "metadata": {
    "id": "80lfcZzf_5h1"
   },
   "source": [
    "## Running this notebook\n",
    "\n",
    "Once you specify the four parameters below, you can run the whole notebook from top to bottom.\n",
    "\n",
    "- `experiment_id` & `channel_number`: select the experiment metadata row from the master sheet\n",
    "- `burst_time`: time of the observed neutron burst\n",
    "- `burst_duration`: time window (in s) around the burst from which we extract the waveforms\n",
    "\n",
    "You will be asked a couple of time to authenticate with your Google account, but after that all the analysis will happen automatically."
   ]
  },
  {
   "cell_type": "code",
   "execution_count": 6,
   "metadata": {
    "id": "AT7BcrrpB0TV"
   },
   "outputs": [],
   "source": [
    "experiment_id = 6\n",
    "channel_number = 3\n",
    "burst_time = '2025-06-16 16:19:45'\n",
    "burst_duration = 60"
   ]
  },
  {
   "cell_type": "markdown",
   "metadata": {
    "id": "Fu4x4NPbBKrT"
   },
   "source": [
    "## Libraries"
   ]
  },
  {
   "cell_type": "code",
   "execution_count": 7,
   "metadata": {
    "id": "IAyoM46dBFqg"
   },
   "outputs": [],
   "source": [
    "# Auth\n",
    "import sys, os\n",
    "import shutil\n",
    "from google.colab import drive\n",
    "from google.colab import auth\n",
    "from google.auth import default\n",
    "\n",
    "# Files\n",
    "from googleapiclient.discovery import build\n",
    "from googleapiclient.http import MediaIoBaseDownload\n",
    "import io\n",
    "import os\n",
    "import gspread\n",
    "\n",
    "# Data analysis\n",
    "import numpy as np\n",
    "import pandas as pd\n",
    "from scipy.signal import find_peaks\n",
    "from sqlalchemy import create_engine, text\n",
    "from scipy.stats import kstest\n",
    "! pip install uproot -q\n",
    "import uproot\n",
    "\n",
    "#Plotting\n",
    "import matplotlib.pyplot as plt\n",
    "import matplotlib.colors as mcolors\n",
    "import plotly.graph_objects as go"
   ]
  },
  {
   "cell_type": "markdown",
   "metadata": {
    "id": "C99IMdA1BSWv"
   },
   "source": [
    "## Authentication"
   ]
  },
  {
   "cell_type": "code",
   "execution_count": 8,
   "metadata": {
    "colab": {
     "base_uri": "https://localhost:8080/"
    },
    "id": "FhhgoaA3A0-Z",
    "outputId": "f0977ad5-f105-4c7d-8b82-5af1456d985f"
   },
   "outputs": [
    {
     "name": "stdout",
     "output_type": "stream",
     "text": [
      "Drive already mounted at /content/drive; to attempt to forcibly remount, call drive.mount(\"/content/drive\", force_remount=True).\n"
     ]
    }
   ],
   "source": [
    "# Mount Drive\n",
    "drive.mount('/content/drive')\n",
    "\n",
    "# Authenticate and create the Drive API client\n",
    "auth.authenticate_user()\n",
    "drive_service = build('drive', 'v3')\n",
    "creds, _ = default()\n",
    "gc = gspread.authorize(creds)\n",
    "\n",
    "# Copy SQL credentials from Google drive\n",
    "shutil.copy(\"/content/drive/MyDrive/Nucleonics/.env/psql_credentials_readonly.py\", \"psql_credentials.py\")\n",
    "\n",
    "# Copy sheet ID file from Google drive\n",
    "shutil.copy(\"/content/drive/MyDrive/Nucleonics/.env/sheet_ids.py\", \"sheet_ids.py\");"
   ]
  },
  {
   "cell_type": "code",
   "execution_count": 9,
   "metadata": {
    "id": "R5pArHA9BUJV"
   },
   "outputs": [],
   "source": [
    "# Import SQL credentials\n",
    "from psql_credentials import PGUSER, PGPASSWORD, PGHOST, PGPORT, PGDATABASE\n",
    "\n",
    "# Import sheet ID for the nuclear particle master sheet\n",
    "from sheet_ids import NUCLEAR_PARTICLE_MASTER as sheet_id\n",
    "\n",
    "# Create the database connection string\n",
    "connection_uri = f'postgresql+psycopg2://{PGUSER}:{PGPASSWORD}@{PGHOST}:{PGPORT}/{PGDATABASE}'\n",
    "engine = create_engine(connection_uri)"
   ]
  },
  {
   "cell_type": "markdown",
   "metadata": {
    "id": "N_VEuvAbFnmT"
   },
   "source": [
    "## Extracting the PSP threshold for neutron discrimination\n",
    "\n",
    "We need to\n",
    "\n",
    "- Open the master sheet\n",
    "- Find the row corresponding with the experiment and channel number:\n",
    "- Extract the `psp threshold` column\n",
    "\n",
    "Because the master sheet is organised in blocks that share an experiment ID (to avoid visual overload) we'll need to \"fill in\" the experiment ID for all rows once the sheet is brought into a pandas dataframe."
   ]
  },
  {
   "cell_type": "code",
   "execution_count": 10,
   "metadata": {
    "id": "OuSLjzoFKdGg"
   },
   "outputs": [],
   "source": [
    "# Fill experiment IDs based on the block organisation of the master sheet\n",
    "def fill_experiment_id(df):\n",
    "    experiment_id = None\n",
    "    updated_ids = []\n",
    "\n",
    "    for index, row in df.iterrows():\n",
    "        if pd.notna(row['Experiment ID']) and row['Experiment ID'] != '':\n",
    "            experiment_id = row['Experiment ID']\n",
    "        updated_ids.append(experiment_id)\n",
    "\n",
    "    df['Experiment ID'] = updated_ids\n",
    "    return df"
   ]
  },
  {
   "cell_type": "code",
   "execution_count": 11,
   "metadata": {
    "id": "Vv4yexG-GESx"
   },
   "outputs": [],
   "source": [
    "sheet = gc.open_by_key(sheet_id).sheet1\n",
    "\n",
    "# Read the sheet into a pandas DataFrame\n",
    "df_sheet = pd.DataFrame(sheet.get_all_records())\n",
    "\n",
    "# Fill the experiment IDs based on the block organisation of the master sheet\n",
    "df_sheet = fill_experiment_id(df_sheet)"
   ]
  },
  {
   "cell_type": "code",
   "execution_count": 12,
   "metadata": {
    "colab": {
     "base_uri": "https://localhost:8080/"
    },
    "id": "rjajUnhCHBoO",
    "outputId": "ac9a0670-98b3-4919-a270-c35fe009b27c"
   },
   "outputs": [
    {
     "name": "stdout",
     "output_type": "stream",
     "text": [
      "PSP threshold: 0.1484375\n"
     ]
    }
   ],
   "source": [
    "# Find the row where Experiment ID and channel number match\n",
    "row = df_sheet[(df_sheet['Experiment ID'] == experiment_id) & (df_sheet['Digitizer channel number'] == channel_number)]\n",
    "\n",
    "if(len(row) == 0):\n",
    "  raise RuntimeError(\"‼️ No row found, check your Experiment ID and Digitizer channel number ‼️ \")\n",
    "\n",
    "# Extract times\n",
    "psp_threshold = row.iloc[0][\"psp threshold\"]\n",
    "\n",
    "if psp_threshold:\n",
    "  print(f\"PSP threshold: {psp_threshold}\")\n",
    "else:\n",
    "  print(\"‼️ PSP threshold not found ‼️ \")"
   ]
  },
  {
   "cell_type": "markdown",
   "metadata": {
    "id": "uNJuPTnlBf3C"
   },
   "source": [
    "## Fetch the ROOT file corresponding to the neutron burst"
   ]
  },
  {
   "cell_type": "markdown",
   "metadata": {
    "id": "PX5eyO2WJg8T"
   },
   "source": [
    "We now look in the database for the closest ROOT file to the `burst_time`. Since our ROOT files are organised by their end time (time of the last event), we need to look for the closest ROOT file after our specified `burst_time`."
   ]
  },
  {
   "cell_type": "code",
   "execution_count": 13,
   "metadata": {
    "id": "hXNM2rAOBYlH"
   },
   "outputs": [],
   "source": [
    "def find_root_file(event_time, channel_number):\n",
    "    query = \"\"\"\n",
    "    SELECT *\n",
    "    FROM root_files\n",
    "    WHERE time > %(event_time)s\n",
    "      AND file LIKE %(file_pattern)s\n",
    "    ORDER BY ABS(EXTRACT(EPOCH FROM (%(event_time)s - time)))\n",
    "    LIMIT 1;\n",
    "    \"\"\"\n",
    "    file_pattern = f\"%_CH{channel_number}@%\"\n",
    "    df = pd.read_sql(query, con=engine, params={\n",
    "        \"event_time\": event_time,\n",
    "        \"file_pattern\": file_pattern\n",
    "    })\n",
    "    df.set_index('time', inplace=True)\n",
    "    return df\n"
   ]
  },
  {
   "cell_type": "code",
   "execution_count": 14,
   "metadata": {
    "colab": {
     "base_uri": "https://localhost:8080/",
     "height": 112
    },
    "id": "MULgCJIACxWN",
    "outputId": "73a93295-c3ba-4832-942a-07606a59fb97"
   },
   "outputs": [
    {
     "data": {
      "application/vnd.google.colaboratory.intrinsic+json": {
       "summary": "{\n  \"name\": \"df_root\",\n  \"rows\": 1,\n  \"fields\": [\n    {\n      \"column\": \"time\",\n      \"properties\": {\n        \"dtype\": \"date\",\n        \"min\": \"2025-06-16 17:08:01\",\n        \"max\": \"2025-06-16 17:08:01\",\n        \"num_unique_values\": 1,\n        \"samples\": [\n          \"2025-06-16 17:08:01\"\n        ],\n        \"semantic_type\": \"\",\n        \"description\": \"\"\n      }\n    },\n    {\n      \"column\": \"computer\",\n      \"properties\": {\n        \"dtype\": \"string\",\n        \"num_unique_values\": 1,\n        \"samples\": [\n          \"thinkpad-t480s\"\n        ],\n        \"semantic_type\": \"\",\n        \"description\": \"\"\n      }\n    },\n    {\n      \"column\": \"daq_folder\",\n      \"properties\": {\n        \"dtype\": \"string\",\n        \"num_unique_values\": 1,\n        \"samples\": [\n          \"run4b\"\n        ],\n        \"semantic_type\": \"\",\n        \"description\": \"\"\n      }\n    },\n    {\n      \"column\": \"dir\",\n      \"properties\": {\n        \"dtype\": \"string\",\n        \"num_unique_values\": 1,\n        \"samples\": [\n          \"caen-nassisi-project-april-2025/DAQ/run4b/RAW\"\n        ],\n        \"semantic_type\": \"\",\n        \"description\": \"\"\n      }\n    },\n    {\n      \"column\": \"file\",\n      \"properties\": {\n        \"dtype\": \"string\",\n        \"num_unique_values\": 1,\n        \"samples\": [\n          \"DataR_CH3@DT5730S_31050_run4b_643.root2\"\n        ],\n        \"semantic_type\": \"\",\n        \"description\": \"\"\n      }\n    },\n    {\n      \"column\": \"id\",\n      \"properties\": {\n        \"dtype\": \"number\",\n        \"std\": null,\n        \"min\": 279255,\n        \"max\": 279255,\n        \"num_unique_values\": 1,\n        \"samples\": [\n          279255\n        ],\n        \"semantic_type\": \"\",\n        \"description\": \"\"\n      }\n    }\n  ]\n}",
       "type": "dataframe",
       "variable_name": "df_root"
      },
      "text/html": [
       "\n",
       "  <div id=\"df-f1f9bd8a-e20a-45f7-ac1d-cd08162bdf12\" class=\"colab-df-container\">\n",
       "    <div>\n",
       "<style scoped>\n",
       "    .dataframe tbody tr th:only-of-type {\n",
       "        vertical-align: middle;\n",
       "    }\n",
       "\n",
       "    .dataframe tbody tr th {\n",
       "        vertical-align: top;\n",
       "    }\n",
       "\n",
       "    .dataframe thead th {\n",
       "        text-align: right;\n",
       "    }\n",
       "</style>\n",
       "<table border=\"1\" class=\"dataframe\">\n",
       "  <thead>\n",
       "    <tr style=\"text-align: right;\">\n",
       "      <th></th>\n",
       "      <th>computer</th>\n",
       "      <th>daq_folder</th>\n",
       "      <th>dir</th>\n",
       "      <th>file</th>\n",
       "      <th>id</th>\n",
       "    </tr>\n",
       "    <tr>\n",
       "      <th>time</th>\n",
       "      <th></th>\n",
       "      <th></th>\n",
       "      <th></th>\n",
       "      <th></th>\n",
       "      <th></th>\n",
       "    </tr>\n",
       "  </thead>\n",
       "  <tbody>\n",
       "    <tr>\n",
       "      <th>2025-06-16 17:08:01</th>\n",
       "      <td>thinkpad-t480s</td>\n",
       "      <td>run4b</td>\n",
       "      <td>caen-nassisi-project-april-2025/DAQ/run4b/RAW</td>\n",
       "      <td>DataR_CH3@DT5730S_31050_run4b_643.root2</td>\n",
       "      <td>279255</td>\n",
       "    </tr>\n",
       "  </tbody>\n",
       "</table>\n",
       "</div>\n",
       "    <div class=\"colab-df-buttons\">\n",
       "\n",
       "  <div class=\"colab-df-container\">\n",
       "    <button class=\"colab-df-convert\" onclick=\"convertToInteractive('df-f1f9bd8a-e20a-45f7-ac1d-cd08162bdf12')\"\n",
       "            title=\"Convert this dataframe to an interactive table.\"\n",
       "            style=\"display:none;\">\n",
       "\n",
       "  <svg xmlns=\"http://www.w3.org/2000/svg\" height=\"24px\" viewBox=\"0 -960 960 960\">\n",
       "    <path d=\"M120-120v-720h720v720H120Zm60-500h600v-160H180v160Zm220 220h160v-160H400v160Zm0 220h160v-160H400v160ZM180-400h160v-160H180v160Zm440 0h160v-160H620v160ZM180-180h160v-160H180v160Zm440 0h160v-160H620v160Z\"/>\n",
       "  </svg>\n",
       "    </button>\n",
       "\n",
       "  <style>\n",
       "    .colab-df-container {\n",
       "      display:flex;\n",
       "      gap: 12px;\n",
       "    }\n",
       "\n",
       "    .colab-df-convert {\n",
       "      background-color: #E8F0FE;\n",
       "      border: none;\n",
       "      border-radius: 50%;\n",
       "      cursor: pointer;\n",
       "      display: none;\n",
       "      fill: #1967D2;\n",
       "      height: 32px;\n",
       "      padding: 0 0 0 0;\n",
       "      width: 32px;\n",
       "    }\n",
       "\n",
       "    .colab-df-convert:hover {\n",
       "      background-color: #E2EBFA;\n",
       "      box-shadow: 0px 1px 2px rgba(60, 64, 67, 0.3), 0px 1px 3px 1px rgba(60, 64, 67, 0.15);\n",
       "      fill: #174EA6;\n",
       "    }\n",
       "\n",
       "    .colab-df-buttons div {\n",
       "      margin-bottom: 4px;\n",
       "    }\n",
       "\n",
       "    [theme=dark] .colab-df-convert {\n",
       "      background-color: #3B4455;\n",
       "      fill: #D2E3FC;\n",
       "    }\n",
       "\n",
       "    [theme=dark] .colab-df-convert:hover {\n",
       "      background-color: #434B5C;\n",
       "      box-shadow: 0px 1px 3px 1px rgba(0, 0, 0, 0.15);\n",
       "      filter: drop-shadow(0px 1px 2px rgba(0, 0, 0, 0.3));\n",
       "      fill: #FFFFFF;\n",
       "    }\n",
       "  </style>\n",
       "\n",
       "    <script>\n",
       "      const buttonEl =\n",
       "        document.querySelector('#df-f1f9bd8a-e20a-45f7-ac1d-cd08162bdf12 button.colab-df-convert');\n",
       "      buttonEl.style.display =\n",
       "        google.colab.kernel.accessAllowed ? 'block' : 'none';\n",
       "\n",
       "      async function convertToInteractive(key) {\n",
       "        const element = document.querySelector('#df-f1f9bd8a-e20a-45f7-ac1d-cd08162bdf12');\n",
       "        const dataTable =\n",
       "          await google.colab.kernel.invokeFunction('convertToInteractive',\n",
       "                                                    [key], {});\n",
       "        if (!dataTable) return;\n",
       "\n",
       "        const docLinkHtml = 'Like what you see? Visit the ' +\n",
       "          '<a target=\"_blank\" href=https://colab.research.google.com/notebooks/data_table.ipynb>data table notebook</a>'\n",
       "          + ' to learn more about interactive tables.';\n",
       "        element.innerHTML = '';\n",
       "        dataTable['output_type'] = 'display_data';\n",
       "        await google.colab.output.renderOutput(dataTable, element);\n",
       "        const docLink = document.createElement('div');\n",
       "        docLink.innerHTML = docLinkHtml;\n",
       "        element.appendChild(docLink);\n",
       "      }\n",
       "    </script>\n",
       "  </div>\n",
       "\n",
       "\n",
       "  <div id=\"id_b61b6509-a229-48c7-99a6-1c6a91666d6a\">\n",
       "    <style>\n",
       "      .colab-df-generate {\n",
       "        background-color: #E8F0FE;\n",
       "        border: none;\n",
       "        border-radius: 50%;\n",
       "        cursor: pointer;\n",
       "        display: none;\n",
       "        fill: #1967D2;\n",
       "        height: 32px;\n",
       "        padding: 0 0 0 0;\n",
       "        width: 32px;\n",
       "      }\n",
       "\n",
       "      .colab-df-generate:hover {\n",
       "        background-color: #E2EBFA;\n",
       "        box-shadow: 0px 1px 2px rgba(60, 64, 67, 0.3), 0px 1px 3px 1px rgba(60, 64, 67, 0.15);\n",
       "        fill: #174EA6;\n",
       "      }\n",
       "\n",
       "      [theme=dark] .colab-df-generate {\n",
       "        background-color: #3B4455;\n",
       "        fill: #D2E3FC;\n",
       "      }\n",
       "\n",
       "      [theme=dark] .colab-df-generate:hover {\n",
       "        background-color: #434B5C;\n",
       "        box-shadow: 0px 1px 3px 1px rgba(0, 0, 0, 0.15);\n",
       "        filter: drop-shadow(0px 1px 2px rgba(0, 0, 0, 0.3));\n",
       "        fill: #FFFFFF;\n",
       "      }\n",
       "    </style>\n",
       "    <button class=\"colab-df-generate\" onclick=\"generateWithVariable('df_root')\"\n",
       "            title=\"Generate code using this dataframe.\"\n",
       "            style=\"display:none;\">\n",
       "\n",
       "  <svg xmlns=\"http://www.w3.org/2000/svg\" height=\"24px\"viewBox=\"0 0 24 24\"\n",
       "       width=\"24px\">\n",
       "    <path d=\"M7,19H8.4L18.45,9,17,7.55,7,17.6ZM5,21V16.75L18.45,3.32a2,2,0,0,1,2.83,0l1.4,1.43a1.91,1.91,0,0,1,.58,1.4,1.91,1.91,0,0,1-.58,1.4L9.25,21ZM18.45,9,17,7.55Zm-12,3A5.31,5.31,0,0,0,4.9,8.1,5.31,5.31,0,0,0,1,6.5,5.31,5.31,0,0,0,4.9,4.9,5.31,5.31,0,0,0,6.5,1,5.31,5.31,0,0,0,8.1,4.9,5.31,5.31,0,0,0,12,6.5,5.46,5.46,0,0,0,6.5,12Z\"/>\n",
       "  </svg>\n",
       "    </button>\n",
       "    <script>\n",
       "      (() => {\n",
       "      const buttonEl =\n",
       "        document.querySelector('#id_b61b6509-a229-48c7-99a6-1c6a91666d6a button.colab-df-generate');\n",
       "      buttonEl.style.display =\n",
       "        google.colab.kernel.accessAllowed ? 'block' : 'none';\n",
       "\n",
       "      buttonEl.onclick = () => {\n",
       "        google.colab.notebook.generateWithVariable('df_root');\n",
       "      }\n",
       "      })();\n",
       "    </script>\n",
       "  </div>\n",
       "\n",
       "    </div>\n",
       "  </div>\n"
      ],
      "text/plain": [
       "                           computer daq_folder  \\\n",
       "time                                             \n",
       "2025-06-16 17:08:01  thinkpad-t480s      run4b   \n",
       "\n",
       "                                                               dir  \\\n",
       "time                                                                 \n",
       "2025-06-16 17:08:01  caen-nassisi-project-april-2025/DAQ/run4b/RAW   \n",
       "\n",
       "                                                        file      id  \n",
       "time                                                                  \n",
       "2025-06-16 17:08:01  DataR_CH3@DT5730S_31050_run4b_643.root2  279255  "
      ]
     },
     "execution_count": 14,
     "metadata": {},
     "output_type": "execute_result"
    }
   ],
   "source": [
    "df_root = find_root_file(burst_time, channel_number)\n",
    "df_root"
   ]
  },
  {
   "cell_type": "markdown",
   "metadata": {
    "id": "2QLmFKCFN7UM"
   },
   "source": [
    "Let's create a dictionary for easy access to the file info:"
   ]
  },
  {
   "cell_type": "code",
   "execution_count": 15,
   "metadata": {
    "id": "nqjenrX_PLns"
   },
   "outputs": [],
   "source": [
    "closest_root_file = df_root.iloc[0].to_dict()"
   ]
  },
  {
   "cell_type": "markdown",
   "metadata": {
    "id": "capsaKe7JnX-"
   },
   "source": [
    "Now we need to construct the Google Drive path for this ROOT file to get its ID so that we can download it for use with uproot."
   ]
  },
  {
   "cell_type": "code",
   "execution_count": 16,
   "metadata": {
    "id": "nqUBfVWiJTg4"
   },
   "outputs": [],
   "source": [
    "def construct_file_path(root_file):\n",
    "  return f\"/content/drive/MyDrive/Computers/{root_file['computer']}/{root_file['dir']}/{root_file['file']}\"\n",
    "\n",
    "# Function to get file ID from file path\n",
    "def get_file_id(file_path):\n",
    "    query = f\"name = '{file_path.split('/')[-1]}' and trashed = false\"\n",
    "    results = drive_service.files().list(q=query, fields=\"files(id, name)\").execute()\n",
    "    items = results.get('files', [])\n",
    "    if items:\n",
    "        return items[0]['id']\n",
    "    return None\n",
    "\n",
    "def download_file_from_drive(file_id, filename):\n",
    "    request = drive_service.files().get_media(fileId=file_id)\n",
    "    fh = io.FileIO(filename, 'wb')\n",
    "    downloader = MediaIoBaseDownload(fh, request)\n",
    "    done = False\n",
    "    while not done:\n",
    "        status, done = downloader.next_chunk()\n",
    "        print(f\"Download {int(status.progress() * 100)}%.\")\n"
   ]
  },
  {
   "cell_type": "code",
   "execution_count": 17,
   "metadata": {
    "id": "O0d0eZmvJUgK"
   },
   "outputs": [],
   "source": [
    "file_path = construct_file_path(closest_root_file)\n",
    "file_id = get_file_id(file_path)"
   ]
  },
  {
   "cell_type": "code",
   "execution_count": 18,
   "metadata": {
    "colab": {
     "base_uri": "https://localhost:8080/"
    },
    "id": "EgO6zwoTMlzN",
    "outputId": "893896e8-a7b6-4df0-961d-acd799da56af"
   },
   "outputs": [
    {
     "name": "stdout",
     "output_type": "stream",
     "text": [
      "Download 100%.\n"
     ]
    }
   ],
   "source": [
    "filename = closest_root_file[\"file\"]\n",
    "download_file_from_drive(file_id, filename)"
   ]
  },
  {
   "cell_type": "markdown",
   "metadata": {
    "id": "iAyWI3QRlSIM"
   },
   "source": [
    "## Analysing waveform data\n",
    "\n",
    "### Pulses with absolute time\n",
    "\n",
    "Each radiation pulse is stored in the ROOT files with a `Timestamp`, `Energy`, `EnergyShort` and `Samples`. The waveform of the pulse is stored in the `Samples` part of the ROOT tree.\n",
    "\n",
    "`Timestamp` information measures the number of picoseconds from the start of the experiment. In order for us to conveniently extract pulses using absolute time, we will need to create a dataframe with the appropriate time index."
   ]
  },
  {
   "cell_type": "code",
   "execution_count": 19,
   "metadata": {
    "id": "1zfkD_z3Fhmw"
   },
   "outputs": [],
   "source": [
    "# Opens up the ROOT file and extracts the information\n",
    "with uproot.open(filename) as f:\n",
    "    tree = f['Data_R']\n",
    "    ts = tree['Timestamp'].array(library='np')\n",
    "    e = tree['Energy'].array(library='np')\n",
    "    es = tree['EnergyShort'].array(library='np')\n",
    "    wf = tree['Samples'].array(library='np')\n",
    "\n",
    "# Creates dataframe with absolute time index\n",
    "end_time = df_root.index[0]\n",
    "start_time = end_time - pd.to_timedelta((ts[-1]-ts[0])/1e12, unit='s')\n",
    "time_abs = start_time + pd.to_timedelta((ts - ts[0])/1e12, unit='s')\n",
    "df_pulses = pd.DataFrame({'Energy': e, 'EnergyShort': es, 'Waveform': wf}, index=pd.to_datetime(time_abs))"
   ]
  },
  {
   "cell_type": "code",
   "execution_count": 20,
   "metadata": {
    "colab": {
     "base_uri": "https://localhost:8080/",
     "height": 206
    },
    "id": "k-Q12sRwptwP",
    "outputId": "7bc2ffa4-05b6-420c-ff69-d778f58d6f2b"
   },
   "outputs": [
    {
     "data": {
      "application/vnd.google.colaboratory.intrinsic+json": {
       "summary": "{\n  \"name\": \"df_pulses\",\n  \"rows\": 68688,\n  \"fields\": [\n    {\n      \"column\": \"Energy\",\n      \"properties\": {\n        \"dtype\": \"uint16\",\n        \"num_unique_values\": 2207,\n        \"samples\": [\n          911,\n          2110,\n          901\n        ],\n        \"semantic_type\": \"\",\n        \"description\": \"\"\n      }\n    },\n    {\n      \"column\": \"EnergyShort\",\n      \"properties\": {\n        \"dtype\": \"uint16\",\n        \"num_unique_values\": 2282,\n        \"samples\": [\n          2786,\n          3099,\n          571\n        ],\n        \"semantic_type\": \"\",\n        \"description\": \"\"\n      }\n    },\n    {\n      \"column\": \"Waveform\",\n      \"properties\": {\n        \"dtype\": \"string\",\n        \"num_unique_values\": 68688,\n        \"samples\": [\n          \"<TArrayS [16166, 16167, 16170, ..., 16168, 16163, 16171] at 0x7a59acbdcf10>\",\n          \"<TArrayS [16167, 16167, 16167, ..., 16168, 16160, 16167] at 0x7a599f43f8d0>\",\n          \"<TArrayS [16163, 16162, 16167, ..., 16164, 16170, 16168] at 0x7a59acc59b90>\"\n        ],\n        \"semantic_type\": \"\",\n        \"description\": \"\"\n      }\n    }\n  ]\n}",
       "type": "dataframe",
       "variable_name": "df_pulses"
      },
      "text/html": [
       "\n",
       "  <div id=\"df-26491d9c-f472-4761-a3aa-9db80aa7ad83\" class=\"colab-df-container\">\n",
       "    <div>\n",
       "<style scoped>\n",
       "    .dataframe tbody tr th:only-of-type {\n",
       "        vertical-align: middle;\n",
       "    }\n",
       "\n",
       "    .dataframe tbody tr th {\n",
       "        vertical-align: top;\n",
       "    }\n",
       "\n",
       "    .dataframe thead th {\n",
       "        text-align: right;\n",
       "    }\n",
       "</style>\n",
       "<table border=\"1\" class=\"dataframe\">\n",
       "  <thead>\n",
       "    <tr style=\"text-align: right;\">\n",
       "      <th></th>\n",
       "      <th>Energy</th>\n",
       "      <th>EnergyShort</th>\n",
       "      <th>Waveform</th>\n",
       "    </tr>\n",
       "  </thead>\n",
       "  <tbody>\n",
       "    <tr>\n",
       "      <th>2025-06-16 16:05:33.648469387</th>\n",
       "      <td>45</td>\n",
       "      <td>42</td>\n",
       "      <td>(16167, 16162, 16168, 16170, 16163, 16170, 161...</td>\n",
       "    </tr>\n",
       "    <tr>\n",
       "      <th>2025-06-16 16:05:33.716455296</th>\n",
       "      <td>226</td>\n",
       "      <td>204</td>\n",
       "      <td>(16165, 16166, 16170, 16166, 16167, 16169, 161...</td>\n",
       "    </tr>\n",
       "    <tr>\n",
       "      <th>2025-06-16 16:05:33.781905502</th>\n",
       "      <td>102</td>\n",
       "      <td>94</td>\n",
       "      <td>(16165, 16170, 16167, 16173, 16167, 16164, 161...</td>\n",
       "    </tr>\n",
       "    <tr>\n",
       "      <th>2025-06-16 16:05:33.961957002</th>\n",
       "      <td>170</td>\n",
       "      <td>154</td>\n",
       "      <td>(16165, 16168, 16165, 16171, 16166, 16166, 161...</td>\n",
       "    </tr>\n",
       "    <tr>\n",
       "      <th>2025-06-16 16:05:33.972274893</th>\n",
       "      <td>479</td>\n",
       "      <td>426</td>\n",
       "      <td>(16156, 16164, 16162, 16168, 16167, 16166, 161...</td>\n",
       "    </tr>\n",
       "  </tbody>\n",
       "</table>\n",
       "</div>\n",
       "    <div class=\"colab-df-buttons\">\n",
       "\n",
       "  <div class=\"colab-df-container\">\n",
       "    <button class=\"colab-df-convert\" onclick=\"convertToInteractive('df-26491d9c-f472-4761-a3aa-9db80aa7ad83')\"\n",
       "            title=\"Convert this dataframe to an interactive table.\"\n",
       "            style=\"display:none;\">\n",
       "\n",
       "  <svg xmlns=\"http://www.w3.org/2000/svg\" height=\"24px\" viewBox=\"0 -960 960 960\">\n",
       "    <path d=\"M120-120v-720h720v720H120Zm60-500h600v-160H180v160Zm220 220h160v-160H400v160Zm0 220h160v-160H400v160ZM180-400h160v-160H180v160Zm440 0h160v-160H620v160ZM180-180h160v-160H180v160Zm440 0h160v-160H620v160Z\"/>\n",
       "  </svg>\n",
       "    </button>\n",
       "\n",
       "  <style>\n",
       "    .colab-df-container {\n",
       "      display:flex;\n",
       "      gap: 12px;\n",
       "    }\n",
       "\n",
       "    .colab-df-convert {\n",
       "      background-color: #E8F0FE;\n",
       "      border: none;\n",
       "      border-radius: 50%;\n",
       "      cursor: pointer;\n",
       "      display: none;\n",
       "      fill: #1967D2;\n",
       "      height: 32px;\n",
       "      padding: 0 0 0 0;\n",
       "      width: 32px;\n",
       "    }\n",
       "\n",
       "    .colab-df-convert:hover {\n",
       "      background-color: #E2EBFA;\n",
       "      box-shadow: 0px 1px 2px rgba(60, 64, 67, 0.3), 0px 1px 3px 1px rgba(60, 64, 67, 0.15);\n",
       "      fill: #174EA6;\n",
       "    }\n",
       "\n",
       "    .colab-df-buttons div {\n",
       "      margin-bottom: 4px;\n",
       "    }\n",
       "\n",
       "    [theme=dark] .colab-df-convert {\n",
       "      background-color: #3B4455;\n",
       "      fill: #D2E3FC;\n",
       "    }\n",
       "\n",
       "    [theme=dark] .colab-df-convert:hover {\n",
       "      background-color: #434B5C;\n",
       "      box-shadow: 0px 1px 3px 1px rgba(0, 0, 0, 0.15);\n",
       "      filter: drop-shadow(0px 1px 2px rgba(0, 0, 0, 0.3));\n",
       "      fill: #FFFFFF;\n",
       "    }\n",
       "  </style>\n",
       "\n",
       "    <script>\n",
       "      const buttonEl =\n",
       "        document.querySelector('#df-26491d9c-f472-4761-a3aa-9db80aa7ad83 button.colab-df-convert');\n",
       "      buttonEl.style.display =\n",
       "        google.colab.kernel.accessAllowed ? 'block' : 'none';\n",
       "\n",
       "      async function convertToInteractive(key) {\n",
       "        const element = document.querySelector('#df-26491d9c-f472-4761-a3aa-9db80aa7ad83');\n",
       "        const dataTable =\n",
       "          await google.colab.kernel.invokeFunction('convertToInteractive',\n",
       "                                                    [key], {});\n",
       "        if (!dataTable) return;\n",
       "\n",
       "        const docLinkHtml = 'Like what you see? Visit the ' +\n",
       "          '<a target=\"_blank\" href=https://colab.research.google.com/notebooks/data_table.ipynb>data table notebook</a>'\n",
       "          + ' to learn more about interactive tables.';\n",
       "        element.innerHTML = '';\n",
       "        dataTable['output_type'] = 'display_data';\n",
       "        await google.colab.output.renderOutput(dataTable, element);\n",
       "        const docLink = document.createElement('div');\n",
       "        docLink.innerHTML = docLinkHtml;\n",
       "        element.appendChild(docLink);\n",
       "      }\n",
       "    </script>\n",
       "  </div>\n",
       "\n",
       "\n",
       "    <div id=\"df-0203248b-9f5f-423d-bbfb-b7324e42aa38\">\n",
       "      <button class=\"colab-df-quickchart\" onclick=\"quickchart('df-0203248b-9f5f-423d-bbfb-b7324e42aa38')\"\n",
       "                title=\"Suggest charts\"\n",
       "                style=\"display:none;\">\n",
       "\n",
       "<svg xmlns=\"http://www.w3.org/2000/svg\" height=\"24px\"viewBox=\"0 0 24 24\"\n",
       "     width=\"24px\">\n",
       "    <g>\n",
       "        <path d=\"M19 3H5c-1.1 0-2 .9-2 2v14c0 1.1.9 2 2 2h14c1.1 0 2-.9 2-2V5c0-1.1-.9-2-2-2zM9 17H7v-7h2v7zm4 0h-2V7h2v10zm4 0h-2v-4h2v4z\"/>\n",
       "    </g>\n",
       "</svg>\n",
       "      </button>\n",
       "\n",
       "<style>\n",
       "  .colab-df-quickchart {\n",
       "      --bg-color: #E8F0FE;\n",
       "      --fill-color: #1967D2;\n",
       "      --hover-bg-color: #E2EBFA;\n",
       "      --hover-fill-color: #174EA6;\n",
       "      --disabled-fill-color: #AAA;\n",
       "      --disabled-bg-color: #DDD;\n",
       "  }\n",
       "\n",
       "  [theme=dark] .colab-df-quickchart {\n",
       "      --bg-color: #3B4455;\n",
       "      --fill-color: #D2E3FC;\n",
       "      --hover-bg-color: #434B5C;\n",
       "      --hover-fill-color: #FFFFFF;\n",
       "      --disabled-bg-color: #3B4455;\n",
       "      --disabled-fill-color: #666;\n",
       "  }\n",
       "\n",
       "  .colab-df-quickchart {\n",
       "    background-color: var(--bg-color);\n",
       "    border: none;\n",
       "    border-radius: 50%;\n",
       "    cursor: pointer;\n",
       "    display: none;\n",
       "    fill: var(--fill-color);\n",
       "    height: 32px;\n",
       "    padding: 0;\n",
       "    width: 32px;\n",
       "  }\n",
       "\n",
       "  .colab-df-quickchart:hover {\n",
       "    background-color: var(--hover-bg-color);\n",
       "    box-shadow: 0 1px 2px rgba(60, 64, 67, 0.3), 0 1px 3px 1px rgba(60, 64, 67, 0.15);\n",
       "    fill: var(--button-hover-fill-color);\n",
       "  }\n",
       "\n",
       "  .colab-df-quickchart-complete:disabled,\n",
       "  .colab-df-quickchart-complete:disabled:hover {\n",
       "    background-color: var(--disabled-bg-color);\n",
       "    fill: var(--disabled-fill-color);\n",
       "    box-shadow: none;\n",
       "  }\n",
       "\n",
       "  .colab-df-spinner {\n",
       "    border: 2px solid var(--fill-color);\n",
       "    border-color: transparent;\n",
       "    border-bottom-color: var(--fill-color);\n",
       "    animation:\n",
       "      spin 1s steps(1) infinite;\n",
       "  }\n",
       "\n",
       "  @keyframes spin {\n",
       "    0% {\n",
       "      border-color: transparent;\n",
       "      border-bottom-color: var(--fill-color);\n",
       "      border-left-color: var(--fill-color);\n",
       "    }\n",
       "    20% {\n",
       "      border-color: transparent;\n",
       "      border-left-color: var(--fill-color);\n",
       "      border-top-color: var(--fill-color);\n",
       "    }\n",
       "    30% {\n",
       "      border-color: transparent;\n",
       "      border-left-color: var(--fill-color);\n",
       "      border-top-color: var(--fill-color);\n",
       "      border-right-color: var(--fill-color);\n",
       "    }\n",
       "    40% {\n",
       "      border-color: transparent;\n",
       "      border-right-color: var(--fill-color);\n",
       "      border-top-color: var(--fill-color);\n",
       "    }\n",
       "    60% {\n",
       "      border-color: transparent;\n",
       "      border-right-color: var(--fill-color);\n",
       "    }\n",
       "    80% {\n",
       "      border-color: transparent;\n",
       "      border-right-color: var(--fill-color);\n",
       "      border-bottom-color: var(--fill-color);\n",
       "    }\n",
       "    90% {\n",
       "      border-color: transparent;\n",
       "      border-bottom-color: var(--fill-color);\n",
       "    }\n",
       "  }\n",
       "</style>\n",
       "\n",
       "      <script>\n",
       "        async function quickchart(key) {\n",
       "          const quickchartButtonEl =\n",
       "            document.querySelector('#' + key + ' button');\n",
       "          quickchartButtonEl.disabled = true;  // To prevent multiple clicks.\n",
       "          quickchartButtonEl.classList.add('colab-df-spinner');\n",
       "          try {\n",
       "            const charts = await google.colab.kernel.invokeFunction(\n",
       "                'suggestCharts', [key], {});\n",
       "          } catch (error) {\n",
       "            console.error('Error during call to suggestCharts:', error);\n",
       "          }\n",
       "          quickchartButtonEl.classList.remove('colab-df-spinner');\n",
       "          quickchartButtonEl.classList.add('colab-df-quickchart-complete');\n",
       "        }\n",
       "        (() => {\n",
       "          let quickchartButtonEl =\n",
       "            document.querySelector('#df-0203248b-9f5f-423d-bbfb-b7324e42aa38 button');\n",
       "          quickchartButtonEl.style.display =\n",
       "            google.colab.kernel.accessAllowed ? 'block' : 'none';\n",
       "        })();\n",
       "      </script>\n",
       "    </div>\n",
       "\n",
       "    </div>\n",
       "  </div>\n"
      ],
      "text/plain": [
       "                               Energy  EnergyShort  \\\n",
       "2025-06-16 16:05:33.648469387      45           42   \n",
       "2025-06-16 16:05:33.716455296     226          204   \n",
       "2025-06-16 16:05:33.781905502     102           94   \n",
       "2025-06-16 16:05:33.961957002     170          154   \n",
       "2025-06-16 16:05:33.972274893     479          426   \n",
       "\n",
       "                                                                        Waveform  \n",
       "2025-06-16 16:05:33.648469387  (16167, 16162, 16168, 16170, 16163, 16170, 161...  \n",
       "2025-06-16 16:05:33.716455296  (16165, 16166, 16170, 16166, 16167, 16169, 161...  \n",
       "2025-06-16 16:05:33.781905502  (16165, 16170, 16167, 16173, 16167, 16164, 161...  \n",
       "2025-06-16 16:05:33.961957002  (16165, 16168, 16165, 16171, 16166, 16166, 161...  \n",
       "2025-06-16 16:05:33.972274893  (16156, 16164, 16162, 16168, 16167, 16166, 161...  "
      ]
     },
     "execution_count": 20,
     "metadata": {},
     "output_type": "execute_result"
    }
   ],
   "source": [
    "df_pulses.head()"
   ]
  },
  {
   "cell_type": "markdown",
   "metadata": {
    "id": "WbmLZnb7p2LP"
   },
   "source": [
    "### Extracting only neutron pulses\n",
    "\n",
    "Currently the `df_pulses` datafarme contains gammas and neutrons. The most accurate way to discriminate between gammas and neutrons is to create a fiducial lines. For the purpose of inspecting the waveforms to see whether a burst is physical of just electrical noise, a simple threshold PSP value is good enough. More discussion of this can be found in the [PSD Analysis notebook](https://github.com/project-ida/arpa-e-experiments/blob/main/tutorials/PSD-analysis.ipynb).\n",
    "\n",
    "PSP is calculated by:\n",
    "\n",
    "$$\n",
    "\\rm PSP = \\frac{\\rm Energy - EnergyShort}{\\rm Energy}\n",
    "$$\n",
    "\n",
    "A neutron pulse is then defined as a pulse whose PSP is greater than the threshold pulled in from the master sheet.\n"
   ]
  },
  {
   "cell_type": "code",
   "execution_count": 21,
   "metadata": {
    "id": "pYmh_1b3lYmQ"
   },
   "outputs": [],
   "source": [
    "# Filtering out gammas to retain only neutrons\n",
    "df_pulses['PSP'] = 1 - (df_pulses['EnergyShort'] / df_pulses['Energy'])\n",
    "\n",
    "if psp_threshold:\n",
    "  neutrons = df_pulses[df_pulses['PSP'] > psp_threshold]\n",
    "else:\n",
    "  print(\"‼️ PSP threshold not found ‼️ \")"
   ]
  },
  {
   "cell_type": "markdown",
   "metadata": {
    "id": "KlFWvHRFrxS7"
   },
   "source": [
    "### Visualising the counts\n",
    "\n",
    "Let's now do a sanity check and visualise the counts per second over the entire ROOT file. The plot below should look identical to what we see in our data panels.\n",
    "\n",
    "We'll also mark the burst time:"
   ]
  },
  {
   "cell_type": "code",
   "execution_count": 22,
   "metadata": {
    "colab": {
     "base_uri": "https://localhost:8080/"
    },
    "id": "_erVbBxS9Bje",
    "outputId": "031ebba2-bba5-4c77-f9da-90067cac371f"
   },
   "outputs": [
    {
     "name": "stdout",
     "output_type": "stream",
     "text": [
      "2025-06-16 16:19:45\n"
     ]
    }
   ],
   "source": [
    "burst_time = pd.to_datetime(burst_time)\n",
    "print(burst_time)"
   ]
  },
  {
   "cell_type": "code",
   "execution_count": 23,
   "metadata": {
    "colab": {
     "base_uri": "https://localhost:8080/",
     "height": 410
    },
    "id": "HEQExazK5W_U",
    "outputId": "3d997247-d1db-4617-81a3-04e19a55642e"
   },
   "outputs": [
    {
     "data": {
      "image/png": "[encoded data removed]",
      "text/plain": [
       "<Figure size 1200x400 with 1 Axes>"
      ]
     },
     "metadata": {},
     "output_type": "display_data"
    }
   ],
   "source": [
    "if psp_threshold:\n",
    "  cps = neutrons['PSP'].resample('1s').count()\n",
    "  plt.figure(figsize=(12, 4))\n",
    "  plt.plot(cps, drawstyle='steps-mid')\n",
    "  plt.axvline(burst_time, color='r', linestyle='--', label=\"Burst time\")\n",
    "  plt.title('Full ROOT file')\n",
    "  plt.xlabel('Time')\n",
    "  plt.ylabel('Counts per second')\n",
    "  plt.legend()\n",
    "  plt.grid(True)\n",
    "  plt.show()\n",
    "else:\n",
    "  print(\"‼️ PSP threshold not found ‼️ \")"
   ]
  },
  {
   "cell_type": "markdown",
   "metadata": {
    "id": "NbZfwRbD5oBS"
   },
   "source": [
    "Let's now zoom in on the burst. Recall that our burst is defined as a time period centred on:"
   ]
  },
  {
   "cell_type": "code",
   "execution_count": 24,
   "metadata": {
    "colab": {
     "base_uri": "https://localhost:8080/"
    },
    "id": "MmL3bAZs4jTz",
    "outputId": "6dd4f95f-4671-4b85-a5b3-b9001d9fb0ab"
   },
   "outputs": [
    {
     "name": "stdout",
     "output_type": "stream",
     "text": [
      "2025-06-16 16:19:45\n"
     ]
    }
   ],
   "source": [
    "print(burst_time)"
   ]
  },
  {
   "cell_type": "markdown",
   "metadata": {
    "id": "F9RaTGIW4nXA"
   },
   "source": [
    "with a duration of:"
   ]
  },
  {
   "cell_type": "code",
   "execution_count": 25,
   "metadata": {
    "colab": {
     "base_uri": "https://localhost:8080/"
    },
    "id": "U6Yl3U8K4sDE",
    "outputId": "f54bf2b7-11a4-4709-c4b6-a570812dc8af"
   },
   "outputs": [
    {
     "name": "stdout",
     "output_type": "stream",
     "text": [
      "0 days 00:01:00\n"
     ]
    }
   ],
   "source": [
    "burst_duration = pd.to_timedelta(burst_duration, unit='s')\n",
    "print(burst_duration)"
   ]
  },
  {
   "cell_type": "markdown",
   "metadata": {
    "id": "WAdMOtV85BqZ"
   },
   "source": [
    "Once we determine the `burst_start` and `burst_end` times, we can easily pull out cps and waveforms for the burst."
   ]
  },
  {
   "cell_type": "code",
   "execution_count": 26,
   "metadata": {
    "id": "8xyr7GiE3bV9"
   },
   "outputs": [],
   "source": [
    "burst_start = burst_time - burst_duration/2\n",
    "burst_end = burst_time + burst_duration/2"
   ]
  },
  {
   "cell_type": "code",
   "execution_count": 27,
   "metadata": {
    "colab": {
     "base_uri": "https://localhost:8080/",
     "height": 410
    },
    "id": "3XbaW-nClas1",
    "outputId": "6a6732f4-61f9-4858-a1c4-675f96983ead"
   },
   "outputs": [
    {
     "data": {
      "image/png": "[encoded data removed]",
      "text/plain": [
       "<Figure size 1200x400 with 1 Axes>"
      ]
     },
     "metadata": {},
     "output_type": "display_data"
    }
   ],
   "source": [
    "if psp_threshold:\n",
    "  plt.figure(figsize=(12, 4))\n",
    "  plt.plot(cps[burst_start:burst_end], drawstyle='steps-mid', color='orange')\n",
    "  plt.axvline(burst_time, color='r', linestyle='--', label=\"Burst time\")\n",
    "  plt.title('Burst period')\n",
    "  plt.xlabel('Time')\n",
    "  plt.ylabel('Counts per second')\n",
    "  plt.legend()\n",
    "  plt.grid(True)\n",
    "  plt.show()\n",
    "else:\n",
    "  print(\"‼️ PSP threshold not found ‼️ \")"
   ]
  },
  {
   "cell_type": "markdown",
   "metadata": {
    "id": "Sy9aHwBy24Co"
   },
   "source": [
    "### Visualising the waveforms\n",
    "\n",
    "We can now easily extract the visualise the neutron waveforms for the burst using the `burst_start` and `burst_end` times."
   ]
  },
  {
   "cell_type": "code",
   "execution_count": 28,
   "metadata": {
    "colab": {
     "base_uri": "https://localhost:8080/",
     "height": 545
    },
    "id": "uSxZYs4blcjF",
    "outputId": "b47e2593-c42a-468a-d2f7-874a234c3a39"
   },
   "outputs": [
    {
     "data": {
      "image/png": "[encoded data removed]",
      "text/plain": [
       "<Figure size 1000x600 with 1 Axes>"
      ]
     },
     "metadata": {},
     "output_type": "display_data"
    }
   ],
   "source": [
    "if psp_threshold:\n",
    "  df_burst = neutrons[burst_start:burst_end]\n",
    "  plt.figure(figsize=(10, 6))\n",
    "  for wf in df_burst['Waveform']:\n",
    "      plt.plot(wf, alpha=0.5)\n",
    "  plt.title(f'Waveforms for neutron pulses between {burst_start} and {burst_end}')\n",
    "  plt.grid(True)\n",
    "  plt.show()\n",
    "else:\n",
    "  print(\"‼️ PSP threshold not found ‼️ \")"
   ]
  },
  {
   "cell_type": "code",
   "execution_count": 28,
   "metadata": {
    "id": "h7F_gl3C_7Ee"
   },
   "outputs": [],
   "source": []
  }
 ],
 "metadata": {
  "colab": {
   "include_colab_link": true,
   "provenance": []
  },
  "kernelspec": {
   "display_name": "Python 3 (ipykernel)",
   "language": "python",
   "name": "python3"
  },
  "language_info": {
   "codemirror_mode": {
    "name": "ipython",
    "version": 3
   },
   "file_extension": ".py",
   "mimetype": "text/x-python",
   "name": "python",
   "nbconvert_exporter": "python",
   "pygments_lexer": "ipython3",
   "version": "3.13.7"
  }
 },
 "nbformat": 4,
 "nbformat_minor": 4
}
