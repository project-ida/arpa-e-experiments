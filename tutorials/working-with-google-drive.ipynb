{
 "cells": [
  {
   "cell_type": "markdown",
   "id": "3115b539-43ad-4e00-83c2-054b3a5611b3",
   "metadata": {},
   "source": [
    "<a href=\"https://colab.research.google.com/github/project-ida/arpa-e-experiments/blob/main/tutorials/working-with-google-drive.ipynb\" target=\"_parent\"><img src=\"https://colab.research.google.com/assets/colab-badge.svg\" alt=\"Open In Colab\"/></a> &nbsp;&nbsp;&nbsp;&nbsp;&nbsp;&nbsp;&nbsp;&nbsp;&nbsp;&nbsp;<a href=\"https://nbviewer.org/github/project-ida/arpa-e-experiments/blob/main/tutorials/working-with-google-drive.ipynb\" target=\"_parent\"><img src=\"https://nbviewer.org/static/img/nav_logo.svg\" alt=\"Open In nbviewer\" width=\"100\"/></a>"
   ]
  },
  {
   "cell_type": "markdown",
   "id": "4042e7a7-fcaf-4be3-9d46-97c6552be7cc",
   "metadata": {},
   "source": [
    "# Working with data stored in Google Drive"
   ]
  },
  {
   "cell_type": "markdown",
   "id": "69224549-e3b5-4701-9135-7e9216270a51",
   "metadata": {},
   "source": [
    "## Downloading data"
   ]
  },
  {
   "cell_type": "markdown",
   "id": "81d530aa-f094-4898-ab36-baa9538d3874",
   "metadata": {},
   "source": [
    "Some of the data we work with is stored in a publicly viewable Google drive folder.\n",
    "\n",
    "Because it is publicly viewable, we can use a simple library called [gdown](https://github.com/wkentaro/gdown) to pull the data into a notebook."
   ]
  },
  {
   "cell_type": "code",
   "execution_count": null,
   "id": "6e1bd7bb-9c62-4cc6-8a3b-6a79ca781c5a",
   "metadata": {},
   "outputs": [],
   "source": [
    "import gdown"
   ]
  },
  {
   "cell_type": "markdown",
   "id": "366ac8ce-1ec2-48c1-9c66-d8afa6c659f7",
   "metadata": {},
   "source": [
    "### Downloading a folder"
   ]
  },
  {
   "cell_type": "markdown",
   "id": "f9aa36c1-56e9-45d6-9f5f-21314a5804df",
   "metadata": {},
   "source": [
    "Let's download a folder called `Sandbox` that we use for testing.\n",
    "\n",
    "Once you grab the sharing link for that folder we just plug it striaght into `gdown`"
   ]
  },
  {
   "cell_type": "code",
   "execution_count": 6,
   "id": "cbf8b6be-87e5-4c54-af79-c7328942305f",
   "metadata": {},
   "outputs": [
    {
     "name": "stderr",
     "output_type": "stream",
     "text": [
      "Retrieving folder contents\n"
     ]
    },
    {
     "name": "stdout",
     "output_type": "stream",
     "text": [
      "Processing file 1Ar48NIOHTP-PMg-4fg_VyjZHJbwrrnao README.md\n"
     ]
    },
    {
     "name": "stderr",
     "output_type": "stream",
     "text": [
      "Retrieving folder contents completed\n",
      "Building directory structure\n",
      "Building directory structure completed\n",
      "Downloading...\n",
      "From: https://drive.google.com/uc?id=1Ar48NIOHTP-PMg-4fg_VyjZHJbwrrnao\n",
      "To: /Users/matt/Documents/GitHub/arpa-e-experiments/tutorials/Sandbox/README.md\n",
      "100%|████████████████████████████████████████████████████████████████████████████████████████████| 95.0/95.0 [00:00<00:00, 330kB/s]\n",
      "Download completed\n"
     ]
    },
    {
     "data": {
      "text/plain": [
       "['/Users/matt/Documents/GitHub/arpa-e-experiments/tutorials/Sandbox/README.md']"
      ]
     },
     "execution_count": 6,
     "metadata": {},
     "output_type": "execute_result"
    }
   ],
   "source": [
    "gdown.download_folder(\"https://drive.google.com/drive/folders/1WXlEJHSRLz2ailnHu9G9qorSogrW1PSs?usp=drive_link\")"
   ]
  },
  {
   "cell_type": "markdown",
   "id": "1d600649-c7cf-47d5-83f0-e604c659b4c7",
   "metadata": {},
   "source": [
    "You should now be able to see a new folder called `Sandbox` that's sitting next to this notebook. The files inside should be the same as those found in Google drive."
   ]
  },
  {
   "cell_type": "markdown",
   "id": "3aec7bcf-38f2-419d-9f0c-18019b9462dc",
   "metadata": {},
   "source": [
    "### Downloading a file"
   ]
  },
  {
   "cell_type": "markdown",
   "id": "6850677b-5d02-4626-a30d-1999731f72db",
   "metadata": {},
   "source": [
    "Let's just download the `README.md` file instead of the whole folder.\n",
    "\n",
    "If you use the sharing link for that specific file then you'll need to use the `fuzzy=True` option soo that gdown can extract the file ID more reliably."
   ]
  },
  {
   "cell_type": "code",
   "execution_count": 10,
   "id": "4eb2ab58-2611-4a80-89be-667b26e18153",
   "metadata": {},
   "outputs": [
    {
     "name": "stderr",
     "output_type": "stream",
     "text": [
      "Downloading...\n",
      "From: https://drive.google.com/uc?id=1Ar48NIOHTP-PMg-4fg_VyjZHJbwrrnao\n",
      "To: /Users/matt/Documents/GitHub/arpa-e-experiments/tutorials/README.txt\n",
      "100%|████████████████████████████████████████████████████████████████████████████████████████████| 95.0/95.0 [00:00<00:00, 155kB/s]\n"
     ]
    },
    {
     "data": {
      "text/plain": [
       "'README.txt'"
      ]
     },
     "execution_count": 10,
     "metadata": {},
     "output_type": "execute_result"
    }
   ],
   "source": [
    "gdown.download(\"https://drive.google.com/file/d/1Ar48NIOHTP-PMg-4fg_VyjZHJbwrrnao/view?usp=drive_link\", fuzzy=True)"
   ]
  },
  {
   "cell_type": "markdown",
   "id": "916b00bf-74e9-4356-a95f-99a516f71843",
   "metadata": {},
   "source": [
    "You should now find `README.txt` sitting next to this notebook."
   ]
  },
  {
   "cell_type": "markdown",
   "id": "be1b91db-a57d-4a7c-94cb-0fdde827c075",
   "metadata": {},
   "source": [
    "## Uploading data"
   ]
  },
  {
   "cell_type": "markdown",
   "id": "f08fab12-83bc-4f56-b4c5-3a0dbe021ca3",
   "metadata": {},
   "source": [
    "Although our Google drive folder is publicly viewable, it's **NOT** publicly editable. This means that, in general, if you generate files in a notebook like this you'll need to do some form of authentication before you can upload files to the drive.\n",
    "\n",
    "It's really complicated to do this from a notebook that's running locally on your computer, so if you need to work locally then it's simplest just to drag those files into Google drive manually.\n",
    "\n",
    "If that's not an option, then you can work with the notebook inside of Google Colab because you're already authenticated inside that environment. \n",
    "\n",
    "However, the Drive integration with Colab doesn't let you use a sharing link to identify the folder in which you want to save the file. You must instead identify the folder based on how you've personally added the shared folder to your own drive. Different people might have added the shared folder in different locations in their  drives which makes it impossible to make code that will work for everyone.\n",
    "\n",
    "Below is an example of what that could look like, but I **strongly** encourage you to opt for manual upload."
   ]
  },
  {
   "cell_type": "code",
   "execution_count": null,
   "id": "64ece4b4-40e2-4b84-b592-00fd2db9bcbf",
   "metadata": {},
   "outputs": [],
   "source": [
    "from google.colab import drive\n",
    "drive.mount('/content/drive')"
   ]
  },
  {
   "cell_type": "code",
   "execution_count": null,
   "id": "ab7caa2a-c39a-437f-abad-f21aa3dfb567",
   "metadata": {},
   "outputs": [],
   "source": [
    "# Create a new file and save data directly to it\n",
    "with open('/content/drive/My Drive/MIT ARPA-E LENR folder/new_file.txt', 'w') as file:\n",
    "    file.write(\"Content to save.\")"
   ]
  },
  {
   "cell_type": "code",
   "execution_count": null,
   "id": "7af3939e-48fe-4821-b58d-8cc210432a9c",
   "metadata": {},
   "outputs": [],
   "source": [
    "# Move an existing file into the Google drive folder\n",
    "\n",
    "import shutil\n",
    "\n",
    "# Replace with your shared drive folder path and filename\n",
    "shared_folder_path = '/content/drive/My Drive/MIT ARPA-E LENR folder'\n",
    "filename = 'existing_file.txt'\n",
    "\n",
    "shutil.move(filename, f'{shared_folder_path}/{filename}')"
   ]
  }
 ],
 "metadata": {
  "kernelspec": {
   "display_name": "Python 3 (ipykernel)",
   "language": "python",
   "name": "python3"
  },
  "language_info": {
   "codemirror_mode": {
    "name": "ipython",
    "version": 3
   },
   "file_extension": ".py",
   "mimetype": "text/x-python",
   "name": "python",
   "nbconvert_exporter": "python",
   "pygments_lexer": "ipython3",
   "version": "3.11.4"
  }
 },
 "nbformat": 4,
 "nbformat_minor": 5
}
