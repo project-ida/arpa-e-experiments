{
  "cells": [
    {
      "cell_type": "markdown",
      "id": "3f826b5b-1cf7-45b2-9622-89c10dbf1eb2",
      "metadata": {
        "id": "3f826b5b-1cf7-45b2-9622-89c10dbf1eb2"
      },
      "source": [
        "<a href=\"https://colab.research.google.com/github/project-ida/arpa-e-experiments/blob/main/templates/yyyy-mm-dd-descriptor.ipynb\" target=\"_parent\"><img src=\"https://colab.research.google.com/assets/colab-badge.svg\" alt=\"Open In Colab\"/></a> &nbsp;&nbsp;&nbsp;&nbsp;&nbsp;&nbsp;&nbsp;&nbsp;&nbsp;&nbsp;<a href=\"https://nbviewer.org/github/project-ida/arpa-e-experiments/blob/main/templates/yyyy-mm-dd-descriptor.ipynb\" target=\"_parent\"><img src=\"https://nbviewer.org/static/img/nav_logo.svg\" alt=\"Open In nbviewer\" width=\"100\"/></a>"
      ]
    },
    {
      "cell_type": "markdown",
      "id": "YVrAMdOsLZXM",
      "metadata": {
        "id": "YVrAMdOsLZXM"
      },
      "source": [
        "## READ FIRST\n",
        "1. Follow instructions in the README in the templates folder\n",
        "2. Leave the Cloab and Jupyter links above alone. Github will make sure they point to where you save the file as long as they are right at the top\n",
        "3. Carry on with your analysis\n",
        "4. If you are using colab, don't forget to **save your changes** otherwise they'll not be commited back to the Github repo"
      ]
    },
    {
      "cell_type": "markdown",
      "id": "a0c58e6c-2dcf-4992-8d16-db9ec301f4b4",
      "metadata": {
        "id": "a0c58e6c-2dcf-4992-8d16-db9ec301f4b4"
      },
      "source": [
        "# Descriptive title"
      ]
    },
    {
      "cell_type": "markdown",
      "id": "487e78f6-0666-4d0c-ade0-30403aa31975",
      "metadata": {
        "id": "487e78f6-0666-4d0c-ade0-30403aa31975"
      },
      "source": [
        "Description of the experiment"
      ]
    },
    {
      "cell_type": "code",
      "execution_count": null,
      "id": "6e5640a1-12da-4157-a5e8-5f73f882e6a7",
      "metadata": {
        "id": "6e5640a1-12da-4157-a5e8-5f73f882e6a7"
      },
      "outputs": [],
      "source": [
        "# RUN THIS IF YOU ARE USING GOOGLE COLAB\n",
        "import sys\n",
        "import os\n",
        "!git clone https://github.com/project-ida/arpa-e-experiments.git\n",
        "sys.path.insert(0,'/content/arpa-e-experiments')\n",
        "os.chdir('/content/arpa-e-experiments')"
      ]
    },
    {
      "cell_type": "code",
      "execution_count": null,
      "id": "a9b070cf-0f22-4946-a040-1860350240d4",
      "metadata": {
        "id": "a9b070cf-0f22-4946-a040-1860350240d4"
      },
      "outputs": [],
      "source": [
        "# Libraries and helper functions\n",
        "\n",
        "import pandas as pd\n",
        "import numpy as np\n",
        "import matplotlib.pyplot as plt\n",
        "\n",
        "from IPython.display import Image\n",
        "from IPython.display import Video\n",
        "from IPython.display import HTML\n",
        "\n",
        "# Use our custom helper functions\n",
        "# - process_data\n",
        "# - plot_panels\n",
        "# - plot_panels_with_scatter\n",
        "# - print_info\n",
        "from libs.helpers import *"
      ]
    },
    {
      "cell_type": "code",
      "execution_count": null,
      "id": "961e61cb-8a0c-4f45-9c9e-ec6c81441524",
      "metadata": {
        "id": "961e61cb-8a0c-4f45-9c9e-ec6c81441524"
      },
      "outputs": [],
      "source": [
        "meta = {\n",
        "    \"descriptor\" : \"CHANGE THIS\" # This will go into the title of all plots\n",
        "}"
      ]
    },
    {
      "cell_type": "markdown",
      "id": "d1d7c4fc-7df2-4c54-8be1-2750a9071260",
      "metadata": {
        "id": "d1d7c4fc-7df2-4c54-8be1-2750a9071260"
      },
      "source": [
        "## Reading the raw data"
      ]
    },
    {
      "cell_type": "code",
      "execution_count": null,
      "id": "fde663ef-7691-4c50-8a21-df4e77c67d25",
      "metadata": {
        "id": "fde663ef-7691-4c50-8a21-df4e77c67d25"
      },
      "outputs": [],
      "source": [
        "# Read the data from source that includes headers\n",
        "example_df = pd.read_csv(\n",
        "    'CHANGE THIS TO DATA URL',\n",
        "    parse_dates=['time'],\n",
        "    date_format=\"ISO8601\",\n",
        "    index_col='time'\n",
        ")\n",
        "\n",
        "\n",
        "# Read the data from source that does NOT include headers\n",
        "# CHANGE \"names\" to be descriptive of the measurements\n",
        "# e.g. pressure data  names=['time', 'Voltage1', 'Voltage2', 'Voltage3', 'Voltage4']\n",
        "example_df = pd.read_csv(\n",
        "    '20240923_192738_Ti_etched_run_2_cycles+RTeq.csv',\n",
        "    names=['time', 'CHANGE', 'CHANGE', 'CHANGE'],\n",
        "    parse_dates=['time'],\n",
        "    date_format=\"ISO8601\",\n",
        "    index_col='time',\n",
        "    header=None\n",
        ")"
      ]
    },
    {
      "cell_type": "code",
      "execution_count": null,
      "id": "ba674648-c367-44a9-a73f-dce6c66cfdf2",
      "metadata": {
        "id": "ba674648-c367-44a9-a73f-dce6c66cfdf2"
      },
      "outputs": [],
      "source": [
        "# Print out basic description of the data, including the start and end times of the data, total number of data points,\n",
        "# average time between measurements, and a count of NaN values for each column.\n",
        "print_info(example_df)"
      ]
    },
    {
      "cell_type": "code",
      "execution_count": null,
      "id": "e3fd770c-4082-432d-85c6-676c0ffdb901",
      "metadata": {
        "id": "e3fd770c-4082-432d-85c6-676c0ffdb901"
      },
      "outputs": [],
      "source": [
        "plt.figure(figsize=(8, 4))\n",
        "plt.plot(example_df['CHANGE THIS TO COLUMN NAME'])\n",
        "plt.xlabel('Time')\n",
        "plt.ylabel('CHANGE THIS TO NAME AND UNITS')\n",
        "plt.xticks(rotation=45)\n",
        "plt.title(f\"{meta['descriptor']} {example_df.index[0].date()}\")\n",
        "plt.show()"
      ]
    },
    {
      "cell_type": "markdown",
      "id": "e0364ca9-7d46-4c9d-a743-0d1077f46b45",
      "metadata": {
        "id": "e0364ca9-7d46-4c9d-a743-0d1077f46b45"
      },
      "source": [
        "## Processing the data\n",
        "\n",
        "To derive physical quantities from several diagnostics, we need to have simultaneous measurements. We'll therefore need to do some interpolation of the data. This is going to involve:\n",
        "1. Mapping all measurements to the nearest second\n",
        "2. Selecting overlapping time intervals from the data\n",
        "3. Combining the data from all diagnostics into one dataframe\n",
        "4. Interpolate to fill the NaNs that result from combining the data in step 3\n",
        "5. Drop any NaNs that can sometimes be generated at the edges of the time range\n",
        "\n",
        "We created a reusable helper function for this."
      ]
    },
    {
      "cell_type": "code",
      "execution_count": null,
      "id": "e0fa56de-0ec6-4b9c-b2a7-4da02eb09812",
      "metadata": {
        "id": "e0fa56de-0ec6-4b9c-b2a7-4da02eb09812"
      },
      "outputs": [],
      "source": [
        "# Adding the meta data as the second argument gives plotting functions access to e.g. experiment descriptor for titles\n",
        "combined_df = process_data([DATAFRAME_1, DATAFRAME_2, ETC], meta)"
      ]
    },
    {
      "cell_type": "code",
      "execution_count": null,
      "id": "4dc684a8-34e1-4265-ae77-4a0eefcaa494",
      "metadata": {
        "id": "4dc684a8-34e1-4265-ae77-4a0eefcaa494"
      },
      "outputs": [],
      "source": [
        "combined_df.head()"
      ]
    },
    {
      "cell_type": "markdown",
      "id": "5a570c69-908c-4530-a30d-1f0a67b5c60e",
      "metadata": {
        "id": "5a570c69-908c-4530-a30d-1f0a67b5c60e"
      },
      "source": [
        "**INCLUDE ANY ADDITIONAL PROCESSING HERE**"
      ]
    },
    {
      "cell_type": "code",
      "execution_count": null,
      "id": "a68f9cd1-e486-4c50-bb93-30feff9f1076",
      "metadata": {
        "id": "a68f9cd1-e486-4c50-bb93-30feff9f1076"
      },
      "outputs": [],
      "source": [
        "# INCLUDE ANY ADDITIONAL PROCESSING HERE"
      ]
    },
    {
      "cell_type": "markdown",
      "id": "7f7d99e7-0c45-48f4-9783-d82773ebd25f",
      "metadata": {
        "id": "7f7d99e7-0c45-48f4-9783-d82773ebd25f"
      },
      "source": [
        "## Visualising the data\n",
        "\n",
        "We created some reusable plotting functions, `plot_panels` and `plot_panels_with_scatter`. Full documentation is avaiable through `shift+tab` over the function name once it's imported. See also the doc string in `libs\\helper.py`  \n",
        "\n",
        "For `plot_panels`, it allows you to choose:\n",
        "- What columns to display (required)\n",
        "- Start time (optional)\n",
        "- Stop time (optional)\n",
        "- Colors (optional)\n",
        "- Path to save the figure (optional)\n",
        "- Downsampling (optional)\n",
        "- A maker to highlight a specific time with a vertical line"
      ]
    },
    {
      "cell_type": "code",
      "execution_count": null,
      "id": "4022b73b-c6d1-4bf8-b8f1-9529f35f23dc",
      "metadata": {
        "id": "4022b73b-c6d1-4bf8-b8f1-9529f35f23dc"
      },
      "outputs": [],
      "source": [
        "# Example usage\n",
        "fig, axes = plot_panels(combined_df, ['column_1', 'column_2', 'column_3','ETC'],\n",
        "                      start=\"2024-09-23 19:37:42\", stop=\"2024-09-24 13:37:42\",\n",
        "                      save_path=\"plot.png\", colors=['blue', 'green', 'red'],\n",
        "                        downsample=10, marker=\"2024-09-23 23:00\")\n",
        "\n",
        "axes[0].set_ylabel(\"Custom Label\") # Modify label after plotting, if needed"
      ]
    },
    {
      "cell_type": "markdown",
      "id": "c5c3a60b-0625-47ef-a3a9-89fd09fc45fb",
      "metadata": {
        "id": "c5c3a60b-0625-47ef-a3a9-89fd09fc45fb"
      },
      "source": [
        "For `plot_panels_with_scatter`:\n",
        "- It makes side by side panels plots with a scatter plot\n",
        "- You can save the static figure with the `save_path` variable just as with `plot_panels`.\n",
        "- You can also add a `marker` to this function as with `plot_panels` which will add a blue dot on the scatter plot corresponding to the vertical lines on the panel plots.\n",
        "- You can animate it over time.\n",
        "- Note that `frames` and `animate` go together. If `animate=True` then frames determine the interval for the animation, setting how many points to skip between frames.\n",
        "- The animation is saved in the `media` folder with a file name based on the date of the first measurement and the descriptor in the meta data."
      ]
    },
    {
      "cell_type": "code",
      "execution_count": null,
      "id": "d5369e89-0bc0-41d9-9c60-c9674e2aa141",
      "metadata": {
        "id": "d5369e89-0bc0-41d9-9c60-c9674e2aa141"
      },
      "outputs": [],
      "source": [
        "# Example usage\n",
        "fig, time_axes, ax_scatter = plot_panels_with_scatter(\n",
        "    combined_df, ['column_1', 'column_2', 'column_3', 'ETC'], scatter_x='column_3', scatter_y='column_1',\n",
        "    start=\"2024-09-23 19:37:42\", stop=\"2024-09-24 13:37:42\", colors=['blue', 'green'],\n",
        "    downsample=10, animate=True, frames=10"
      ]
    },
    {
      "cell_type": "code",
      "execution_count": null,
      "id": "4de79691-69b0-4af4-a9ff-b67674c1284b",
      "metadata": {
        "id": "4de79691-69b0-4af4-a9ff-b67674c1284b"
      },
      "outputs": [],
      "source": [
        "# If working in colab, then set embed=True\n",
        "Video(\"media/file name of animation.mp4\", embed=False, width=800)"
      ]
    }
  ],
  "metadata": {
    "colab": {
      "provenance": []
    },
    "kernelspec": {
      "display_name": "Python 3 (ipykernel)",
      "language": "python",
      "name": "python3"
    },
    "language_info": {
      "codemirror_mode": {
        "name": "ipython",
        "version": 3
      },
      "file_extension": ".py",
      "mimetype": "text/x-python",
      "name": "python",
      "nbconvert_exporter": "python",
      "pygments_lexer": "ipython3",
      "version": "3.11.4"
    }
  },
  "nbformat": 4,
  "nbformat_minor": 5
}