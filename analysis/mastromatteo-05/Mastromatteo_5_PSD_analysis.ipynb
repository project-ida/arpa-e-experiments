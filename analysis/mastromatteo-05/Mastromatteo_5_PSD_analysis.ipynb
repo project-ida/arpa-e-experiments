{
 "cells": [
  {
   "cell_type": "markdown",
   "metadata": {
    "id": "718fa448-89aa-4055-a179-b265ca731032"
   },
   "source": [
    "<a href=\"https://colab.research.google.com/github/project-ida/arpa-e-experiments/blob/main/analysis/mastromatteo-05/Mastromatteo_5_PSD_analysis.ipynb\" target=\"_parent\"><img src=\"https://colab.research.google.com/assets/colab-badge.svg\" alt=\"Open In Colab\"/></a> &nbsp;&nbsp;&nbsp;&nbsp;&nbsp;&nbsp;&nbsp;&nbsp;&nbsp;&nbsp;<a href=\"https://nbviewer.org/github/project-ida/arpa-e-experiments/blob/main/analysis/mastromatteo-05/Mastromatteo_5_PSD_analysis.ipynb\" target=\"_parent\"><img src=\"https://nbviewer.org/static/img/nav_logo.svg\" alt=\"Open In nbviewer\" width=\"100\"/></a>"
   ]
  },
  {
   "cell_type": "markdown",
   "metadata": {
    "id": "zPGvduxO5Zva"
   },
   "source": [
    "\n",
    "‼️ **Prerequisites** ‼️:\n",
    "- Access to the `Nucleonics` Google drive folder (it must also be added as a shortcut called \"Nucleonics\" in your own drive)\n",
    "- Access to the nucleonics `.env` folder (where sensitive info lives)"
   ]
  },
  {
   "cell_type": "markdown",
   "metadata": {
    "id": "40OAJwX8aE4K"
   },
   "source": [
    "# PSD Analysis\n",
    "\n",
    "The analysis notebook relies on the [\"Nuclear particle master\"](https://docs.google.com/spreadsheets/d/1zgp8MplLXNAI1s7NAs7tCCVnv7N05AR4Q7x4hnE_PiA/edit?gid=0#gid=0) sheet to provide timestamps that allow us to separate the radiation data from experiments into several regions. In ideal experiments, we'll have:\n",
    "- Set-up\n",
    "- Calibration (30 min with source)\n",
    "- Background 1 (12 hours)\n",
    "- Experiment\n",
    "- Background 2 (12 hours)\n",
    "\n",
    "A PSD plot will be created for the calibration period in order to extract a `psp_threshold` that allows us to discriminate between gammas and neutrons. This threshold is then saved back to the master sheet.\n",
    "\n"
   ]
  },
  {
   "cell_type": "markdown",
   "metadata": {
    "id": "WLRzIEVx2E1h"
   },
   "source": [
    "## Running this notebook\n",
    "\n",
    "Go ahead and change the `experiment_id` and `channel_number` below and then run the whole notebook.\n",
    "\n",
    "You will be asked a couple of time to authenticate with your Google account, but after that all the analysis will happen automatically."
   ]
  },
  {
   "cell_type": "code",
   "execution_count": null,
   "metadata": {
    "id": "Fh2oRsfz2EKK"
   },
   "outputs": [],
   "source": [
    "experiment_id = 13\n",
    "channel_number = 2"
   ]
  },
  {
   "cell_type": "markdown",
   "metadata": {
    "id": "ngm6-Aeq3BBl"
   },
   "source": [
    "## Libraries"
   ]
  },
  {
   "cell_type": "code",
   "execution_count": null,
   "metadata": {
    "id": "jBFPVytJarKY"
   },
   "outputs": [],
   "source": [
    "# Auth\n",
    "import sys, os\n",
    "import shutil\n",
    "from google.colab import drive\n",
    "from google.colab import auth\n",
    "from google.auth import default\n",
    "\n",
    "# Interacting with sheets\n",
    "import gspread\n",
    "\n",
    "# Data analysis\n",
    "import numpy as np\n",
    "import pandas as pd\n",
    "from scipy.optimize import curve_fit\n",
    "from scipy.signal import find_peaks\n",
    "from sqlalchemy import create_engine, text\n",
    "\n",
    "# Plotting\n",
    "import matplotlib.pyplot as plt\n",
    "import matplotlib.colors as mcolors"
   ]
  },
  {
   "cell_type": "markdown",
   "metadata": {
    "id": "ECkL-FKb0z8d"
   },
   "source": [
    "## Authentication\n",
    "\n",
    "We need to do a few authentication steps:\n",
    "- Bring in the database credentials from Google drive so that we can pull data from the live database.\n",
    "- Bring in the nuclear particle master sheet ID\n",
    "-  Authenticate Colab to pull the nuclear particle master sheet using the Drive API."
   ]
  },
  {
   "cell_type": "code",
   "execution_count": null,
   "metadata": {
    "colab": {
     "base_uri": "https://localhost:8080/"
    },
    "id": "hLa3yxHiau8o",
    "outputId": "3c4a4e89-690f-47b6-b0ea-29d23cdb2849"
   },
   "outputs": [
    {
     "name": "stdout",
     "output_type": "stream",
     "text": [
      "Mounted at /content/drive\n"
     ]
    }
   ],
   "source": [
    "# Mount Drive\n",
    "drive.mount('/content/drive')\n",
    "\n",
    "# Copy SQL credentials from Google drive\n",
    "shutil.copy(\"/content/drive/MyDrive/Nucleonics/.env/psql_credentials.py\", \"psql_credentials.py\")\n",
    "\n",
    "# Copy sheet ID file from Google drive\n",
    "shutil.copy(\"/content/drive/MyDrive/Nucleonics/.env/sheet_ids.py\", \"sheet_ids.py\");"
   ]
  },
  {
   "cell_type": "code",
   "execution_count": null,
   "metadata": {
    "id": "yxzMFBara5ov"
   },
   "outputs": [],
   "source": [
    "# Import SQL credentials\n",
    "from psql_credentials import PGUSER, PGPASSWORD, PGHOST, PGPORT, PGDATABASE\n",
    "\n",
    "# Import sheet ID for the nuclear particle master sheet\n",
    "from sheet_ids import NUCLEAR_PARTICLE_MASTER as sheet_id\n",
    "\n",
    "# Create the database connection string\n",
    "connection_uri = f'postgresql+psycopg2://{PGUSER}:{PGPASSWORD}@{PGHOST}:{PGPORT}/{PGDATABASE}'\n",
    "engine = create_engine(connection_uri)"
   ]
  },
  {
   "cell_type": "code",
   "execution_count": null,
   "metadata": {
    "id": "qFmXJoGKj_Sh"
   },
   "outputs": [],
   "source": [
    "\n",
    "# Authenticate using Colab's built-in credentials\n",
    "auth.authenticate_user()\n",
    "creds, _ = default()\n",
    "gc = gspread.authorize(creds)"
   ]
  },
  {
   "cell_type": "markdown",
   "metadata": {
    "id": "ejMm7SW91R4A"
   },
   "source": [
    "## Extracting experimental timestamps\n",
    "\n",
    "We need to\n",
    "- Open the master sheet\n",
    "- Find the row corresponding with the experiment\n",
    "- Extract the timestamp columns\n",
    "\n",
    "Because the master sheet is organised in blocks that share an experiment ID (to avoid visual overload) we'll need to \"fill in\" the experiment ID for all rows once the sheet is brought into a pandas dataframe.\n",
    "\n"
   ]
  },
  {
   "cell_type": "code",
   "execution_count": null,
   "metadata": {
    "id": "xlqY9AeNcMbO"
   },
   "outputs": [],
   "source": [
    "# Fill experiment IDs based on the block organisation of the master sheet\n",
    "def fill_experiment_id(df):\n",
    "    experiment_id = None\n",
    "    updated_ids = []\n",
    "\n",
    "    for index, row in df.iterrows():\n",
    "        if pd.notna(row['Experiment ID']) and row['Experiment ID'] != '':\n",
    "            experiment_id = row['Experiment ID']\n",
    "        updated_ids.append(experiment_id)\n",
    "\n",
    "    df['Experiment ID'] = updated_ids\n",
    "    return df"
   ]
  },
  {
   "cell_type": "code",
   "execution_count": null,
   "metadata": {
    "id": "-COStQ5FkKf7"
   },
   "outputs": [],
   "source": [
    "sheet = gc.open_by_key(sheet_id).sheet1\n",
    "\n",
    "# Read the sheet into a pandas DataFrame\n",
    "df = pd.DataFrame(sheet.get_all_records())\n",
    "\n",
    "# Fill the experiment IDs based on the block organisation of the master sheet\n",
    "df = fill_experiment_id(df)"
   ]
  },
  {
   "cell_type": "code",
   "execution_count": null,
   "metadata": {
    "colab": {
     "base_uri": "https://localhost:8080/",
     "height": 81
    },
    "id": "bfHvT6Qtkvbq",
    "outputId": "c93f37f8-caf1-4dfa-e79b-bd8ade392c22"
   },
   "outputs": [
    {
     "data": {
      "application/vnd.google.colaboratory.intrinsic+json": {
       "summary": "{\n  \"name\": \"times\",\n  \"rows\": 1,\n  \"fields\": [\n    {\n      \"column\": \"Setup\",\n      \"properties\": {\n        \"dtype\": \"date\",\n        \"min\": \"2025-08-01 17:30:00\",\n        \"max\": \"2025-08-01 17:30:00\",\n        \"num_unique_values\": 1,\n        \"samples\": [\n          \"2025-08-01 17:30:00\"\n        ],\n        \"semantic_type\": \"\",\n        \"description\": \"\"\n      }\n    },\n    {\n      \"column\": \"Calibration\",\n      \"properties\": {\n        \"dtype\": \"date\",\n        \"min\": \"2025-08-01 18:28:00\",\n        \"max\": \"2025-08-01 18:28:00\",\n        \"num_unique_values\": 1,\n        \"samples\": [\n          \"2025-08-01 18:28:00\"\n        ],\n        \"semantic_type\": \"\",\n        \"description\": \"\"\n      }\n    },\n    {\n      \"column\": \"Background 1\",\n      \"properties\": {\n        \"dtype\": \"date\",\n        \"min\": \"2025-08-01 18:34:00\",\n        \"max\": \"2025-08-01 18:34:00\",\n        \"num_unique_values\": 1,\n        \"samples\": [\n          \"2025-08-01 18:34:00\"\n        ],\n        \"semantic_type\": \"\",\n        \"description\": \"\"\n      }\n    },\n    {\n      \"column\": \"Experiment\",\n      \"properties\": {\n        \"dtype\": \"date\",\n        \"min\": \"2025-08-04 15:06:00\",\n        \"max\": \"2025-08-04 15:06:00\",\n        \"num_unique_values\": 1,\n        \"samples\": [\n          \"2025-08-04 15:06:00\"\n        ],\n        \"semantic_type\": \"\",\n        \"description\": \"\"\n      }\n    },\n    {\n      \"column\": \"Background 2\",\n      \"properties\": {\n        \"dtype\": \"date\",\n        \"min\": \"NaT\",\n        \"max\": \"NaT\",\n        \"num_unique_values\": 0,\n        \"samples\": [],\n        \"semantic_type\": \"\",\n        \"description\": \"\"\n      }\n    },\n    {\n      \"column\": \"End\",\n      \"properties\": {\n        \"dtype\": \"date\",\n        \"min\": \"NaT\",\n        \"max\": \"NaT\",\n        \"num_unique_values\": 0,\n        \"samples\": [],\n        \"semantic_type\": \"\",\n        \"description\": \"\"\n      }\n    }\n  ]\n}",
       "type": "dataframe",
       "variable_name": "times"
      },
      "text/html": [
       "\n",
       "  <div id=\"df-ae021346-38ed-40ba-844d-5d6828fe6109\" class=\"colab-df-container\">\n",
       "    <div>\n",
       "<style scoped>\n",
       "    .dataframe tbody tr th:only-of-type {\n",
       "        vertical-align: middle;\n",
       "    }\n",
       "\n",
       "    .dataframe tbody tr th {\n",
       "        vertical-align: top;\n",
       "    }\n",
       "\n",
       "    .dataframe thead th {\n",
       "        text-align: right;\n",
       "    }\n",
       "</style>\n",
       "<table border=\"1\" class=\"dataframe\">\n",
       "  <thead>\n",
       "    <tr style=\"text-align: right;\">\n",
       "      <th></th>\n",
       "      <th>Setup</th>\n",
       "      <th>Calibration</th>\n",
       "      <th>Background 1</th>\n",
       "      <th>Experiment</th>\n",
       "      <th>Background 2</th>\n",
       "      <th>End</th>\n",
       "    </tr>\n",
       "  </thead>\n",
       "  <tbody>\n",
       "    <tr>\n",
       "      <th>28</th>\n",
       "      <td>2025-08-01 17:30:00</td>\n",
       "      <td>2025-08-01 18:28:00</td>\n",
       "      <td>2025-08-01 18:34:00</td>\n",
       "      <td>2025-08-04 15:06:00</td>\n",
       "      <td>NaT</td>\n",
       "      <td>NaT</td>\n",
       "    </tr>\n",
       "  </tbody>\n",
       "</table>\n",
       "</div>\n",
       "    <div class=\"colab-df-buttons\">\n",
       "\n",
       "  <div class=\"colab-df-container\">\n",
       "    <button class=\"colab-df-convert\" onclick=\"convertToInteractive('df-ae021346-38ed-40ba-844d-5d6828fe6109')\"\n",
       "            title=\"Convert this dataframe to an interactive table.\"\n",
       "            style=\"display:none;\">\n",
       "\n",
       "  <svg xmlns=\"http://www.w3.org/2000/svg\" height=\"24px\" viewBox=\"0 -960 960 960\">\n",
       "    <path d=\"M120-120v-720h720v720H120Zm60-500h600v-160H180v160Zm220 220h160v-160H400v160Zm0 220h160v-160H400v160ZM180-400h160v-160H180v160Zm440 0h160v-160H620v160ZM180-180h160v-160H180v160Zm440 0h160v-160H620v160Z\"/>\n",
       "  </svg>\n",
       "    </button>\n",
       "\n",
       "  <style>\n",
       "    .colab-df-container {\n",
       "      display:flex;\n",
       "      gap: 12px;\n",
       "    }\n",
       "\n",
       "    .colab-df-convert {\n",
       "      background-color: #E8F0FE;\n",
       "      border: none;\n",
       "      border-radius: 50%;\n",
       "      cursor: pointer;\n",
       "      display: none;\n",
       "      fill: #1967D2;\n",
       "      height: 32px;\n",
       "      padding: 0 0 0 0;\n",
       "      width: 32px;\n",
       "    }\n",
       "\n",
       "    .colab-df-convert:hover {\n",
       "      background-color: #E2EBFA;\n",
       "      box-shadow: 0px 1px 2px rgba(60, 64, 67, 0.3), 0px 1px 3px 1px rgba(60, 64, 67, 0.15);\n",
       "      fill: #174EA6;\n",
       "    }\n",
       "\n",
       "    .colab-df-buttons div {\n",
       "      margin-bottom: 4px;\n",
       "    }\n",
       "\n",
       "    [theme=dark] .colab-df-convert {\n",
       "      background-color: #3B4455;\n",
       "      fill: #D2E3FC;\n",
       "    }\n",
       "\n",
       "    [theme=dark] .colab-df-convert:hover {\n",
       "      background-color: #434B5C;\n",
       "      box-shadow: 0px 1px 3px 1px rgba(0, 0, 0, 0.15);\n",
       "      filter: drop-shadow(0px 1px 2px rgba(0, 0, 0, 0.3));\n",
       "      fill: #FFFFFF;\n",
       "    }\n",
       "  </style>\n",
       "\n",
       "    <script>\n",
       "      const buttonEl =\n",
       "        document.querySelector('#df-ae021346-38ed-40ba-844d-5d6828fe6109 button.colab-df-convert');\n",
       "      buttonEl.style.display =\n",
       "        google.colab.kernel.accessAllowed ? 'block' : 'none';\n",
       "\n",
       "      async function convertToInteractive(key) {\n",
       "        const element = document.querySelector('#df-ae021346-38ed-40ba-844d-5d6828fe6109');\n",
       "        const dataTable =\n",
       "          await google.colab.kernel.invokeFunction('convertToInteractive',\n",
       "                                                    [key], {});\n",
       "        if (!dataTable) return;\n",
       "\n",
       "        const docLinkHtml = 'Like what you see? Visit the ' +\n",
       "          '<a target=\"_blank\" href=https://colab.research.google.com/notebooks/data_table.ipynb>data table notebook</a>'\n",
       "          + ' to learn more about interactive tables.';\n",
       "        element.innerHTML = '';\n",
       "        dataTable['output_type'] = 'display_data';\n",
       "        await google.colab.output.renderOutput(dataTable, element);\n",
       "        const docLink = document.createElement('div');\n",
       "        docLink.innerHTML = docLinkHtml;\n",
       "        element.appendChild(docLink);\n",
       "      }\n",
       "    </script>\n",
       "  </div>\n",
       "\n",
       "\n",
       "    </div>\n",
       "  </div>\n"
      ],
      "text/plain": [
       "                 Setup         Calibration        Background 1  \\\n",
       "28 2025-08-01 17:30:00 2025-08-01 18:28:00 2025-08-01 18:34:00   \n",
       "\n",
       "            Experiment Background 2 End  \n",
       "28 2025-08-04 15:06:00          NaT NaT  "
      ]
     },
     "execution_count": 8,
     "metadata": {},
     "output_type": "execute_result"
    }
   ],
   "source": [
    "# Find the rows where Experiment ID matches\n",
    "rows = df[df['Experiment ID'] == experiment_id]\n",
    "\n",
    "if len(rows) == 0:\n",
    "  raise ValueError(f\"No matser sheet entry for 'Experiment ID' = {experiment_id}\")\n",
    "\n",
    "# Exract digitizer for SQL table identification\n",
    "digitizer = rows.iloc[0][\"Digitizer\"]\n",
    "\n",
    "# Extract times\n",
    "times = rows.iloc[[0]][['Setup', 'Calibration', 'Background 1', 'Experiment', 'Background 2', 'End']]\n",
    "times = times.apply(pd.to_datetime)\n",
    "\n",
    "# Extract the row corresponding to the specified channel number\n",
    "row = rows[rows[\"Digitizer channel number\"] == channel_number]\n",
    "\n",
    "if len(row) == 0:\n",
    "  raise ValueError(f\"No matser sheet entry for 'Experiment ID' = {experiment_id}, 'Digitizer channel number' = {channel_number}\")\n",
    "\n",
    "# Display the extracted times\n",
    "times.head()"
   ]
  },
  {
   "cell_type": "markdown",
   "metadata": {
    "id": "8l-cIG5C1vSF"
   },
   "source": [
    "## Compiling PSD data from radiation events\n",
    "\n",
    "We collect the time, energy and psp value of each radiation event and store it in a SQL database. In order to create a PSD plot and perform analysis, we need to work with 2D histogram. In other words, we need to count the number of events in given energy/psp buckets.\n",
    "\n",
    "The database is optimised for performing these kind of aggregations over large volumes of data so we lean on its capabilities instead of attempting to bring all the data into python and then aggregating.\n"
   ]
  },
  {
   "cell_type": "code",
   "execution_count": null,
   "metadata": {
    "id": "aXUSKmFPlpfT"
   },
   "outputs": [],
   "source": [
    "def get_psd_data(start_time, end_time):\n",
    "  query = f\"\"\"\n",
    "  SELECT\n",
    "      width_bucket(channels[1], 0, 1, 128) AS psp_bin,\n",
    "      width_bucket(channels[2], 0, 4000, 512) AS energy_bin,\n",
    "      COUNT(*) AS count\n",
    "  FROM {digitizer}_ch{channel_number}\n",
    "  WHERE time BETWEEN '{start_time}' AND '{end_time}'\n",
    "  GROUP BY psp_bin, energy_bin\n",
    "  ORDER BY psp_bin, energy_bin;\n",
    "  \"\"\"\n",
    "  return pd.read_sql(query, engine, index_col=None)\n",
    "\n",
    "\n",
    "def get_all_psd_data(times):\n",
    "    psd_data = {}\n",
    "    psd_periods = {}\n",
    "    columns = times.columns  # Include all columns, including 'Setup'\n",
    "\n",
    "    for i in range(len(columns) - 1):  # Stop before the last column\n",
    "        start_time = times.iloc[0, i]\n",
    "        if pd.notna(start_time):\n",
    "            # Find the next non-empty time\n",
    "            end_time = None\n",
    "            for j in range(i + 1, len(columns)):\n",
    "                if pd.notna(times.iloc[0, j]):\n",
    "                    end_time = times.iloc[0, j]\n",
    "                    break\n",
    "            # Only proceed if a valid end_time was found\n",
    "            if end_time is not None:\n",
    "                data = get_psd_data(start_time, end_time)\n",
    "                psd_data[columns[i]] = data\n",
    "                psd_periods[columns[i]] = end_time - start_time\n",
    "\n",
    "    return psd_data, psd_periods"
   ]
  },
  {
   "cell_type": "markdown",
   "metadata": {
    "id": "6VVPzETa25RP"
   },
   "source": [
    "We will now extract PSD data for all periods in our experiment."
   ]
  },
  {
   "cell_type": "code",
   "execution_count": null,
   "metadata": {
    "id": "XvxNY0tbKePZ"
   },
   "outputs": [],
   "source": [
    "psd_data, psd_periods  = get_all_psd_data(times)"
   ]
  },
  {
   "cell_type": "markdown",
   "metadata": {
    "id": "ND-X2sv2i3_q"
   },
   "source": [
    "Sometimes an experiment will be ongoing so we won't have data for the different periods yet. We'll create a helper function to check this for us so that we don't run into errors later on in the notebook."
   ]
  },
  {
   "cell_type": "code",
   "execution_count": null,
   "metadata": {
    "id": "eQzETGE-jF4V"
   },
   "outputs": [],
   "source": [
    "# Checks to see if experimental data for a particular period exists\n",
    "def data_exists(label):\n",
    "    if label in psd_data:  # Check if dict key exists (false if there are no dates for this period in the master sheet)\n",
    "        if len(psd_data[label]) > 0:  # Check if array is non-empty (false is there is no data for this period in the databse)\n",
    "            return True\n",
    "        else:\n",
    "            return False\n",
    "    else:\n",
    "        return False"
   ]
  },
  {
   "cell_type": "markdown",
   "metadata": {
    "id": "_Mq4oKoMUnt7"
   },
   "source": [
    "If we do not have an official calibration period, we'll use the next period (e.g. Background 1 or Experiment) for calculting the PSP threshold."
   ]
  },
  {
   "cell_type": "code",
   "execution_count": null,
   "metadata": {
    "id": "_zIoMpMYTYeO"
   },
   "outputs": [],
   "source": [
    "if not data_exists(\"Calibration\"):\n",
    "  print(\"Calibration data does not exist, looking for other data to use in place of an official calibration period\")\n",
    "  if data_exists(\"Background 1\"):\n",
    "    psd_data[\"Calibration\"] = psd_data[\"Background 1\"]\n",
    "    psd_periods[\"Calibration\"] = psd_periods[\"Background 1\"]\n",
    "    print(\"Using Background 1 data for calibration\")\n",
    "  elif data_exists(\"Experiment\"):\n",
    "    psd_data[\"Calibration\"] = psd_data[\"Experiment\"]\n",
    "    psd_periods[\"Calibration\"] = psd_periods[\"Experiment\"]\n",
    "    print(\"Using Experiment data for calibration\")\n",
    "  elif data_exists(\"Setup\"):\n",
    "    psd_data[\"Calibration\"] = psd_data[\"Setup\"]\n",
    "    psd_periods[\"Calibration\"] = psd_periods[\"Setup\"]\n",
    "    print(\"Using Setup data for calibration\")"
   ]
  },
  {
   "cell_type": "markdown",
   "metadata": {
    "id": "e-WFcA3Y3f6X"
   },
   "source": [
    "## Visualising the PSD plots"
   ]
  },
  {
   "cell_type": "code",
   "execution_count": null,
   "metadata": {
    "id": "bHU6fOgQmTKj"
   },
   "outputs": [],
   "source": [
    "def plot_psd(data, period=None, title=\"PSD\", psp_threshold=None, ax=None):\n",
    "    # Initialise histogram\n",
    "    hist = np.zeros((512, 128), dtype=int)\n",
    "\n",
    "    if period is not None:\n",
    "        days = period.days\n",
    "        hours = period.components.hours\n",
    "        days_str = f\"{days} day\" if days == 1 else f\"{days} days\" if days > 0 else \"\"\n",
    "        hours_str = f\"{hours} hour\" if hours == 1 else f\"{hours} hours\"\n",
    "        period_string = f\"{days_str}, {hours_str}\" if days > 0 else hours_str\n",
    "        period_string = period_string.strip(\", \")\n",
    "    else:\n",
    "        period_string = None\n",
    "\n",
    "    # Accumulate counts\n",
    "    for row in data.itertuples(index=False):\n",
    "        psp_bin, energy_bin, count = row\n",
    "        if 0 <= energy_bin < 512 and 0 <= psp_bin < 128:\n",
    "            hist[energy_bin, psp_bin] += int(count)\n",
    "\n",
    "    # Define bin edges\n",
    "    energy_edges = np.linspace(0, 4000, 513)  # 512 bins → 513 edges\n",
    "    psp_edges = np.linspace(0, 1, 129)        # 128 bins → 129 edges\n",
    "\n",
    "    # Plot with pcolormesh and log colour scale\n",
    "    if ax is None:\n",
    "        fig = plt.figure(figsize=(10, 6))\n",
    "        ax = fig.add_subplot(111)\n",
    "\n",
    "    im = ax.pcolormesh(energy_edges, psp_edges, hist.T,\n",
    "                      norm=mcolors.LogNorm(vmin=1, vmax=hist.max()),\n",
    "                      cmap='viridis', shading='auto')\n",
    "    ax.set_xlabel('Energy')\n",
    "    ax.set_ylabel('PSP')\n",
    "    if period_string is not None:\n",
    "        ax.set_title(f\"{title} ({period_string})\")\n",
    "    else:\n",
    "        ax.set_title(title)\n",
    "\n",
    "    # Draw horizontal red line at psp_threshold if provided\n",
    "    if psp_threshold is not None:\n",
    "        if 0 <= psp_threshold <= 1:  # Ensure threshold is within PSP range [0, 1]\n",
    "            ax.axhline(y=psp_threshold, color='red', linestyle='-', label=f'PSP Threshold: {psp_threshold:.3f}')\n",
    "            ax.legend()\n",
    "\n",
    "    # Add colorbar\n",
    "    plt.colorbar(im, ax=ax, label='Count (log scale)')\n",
    "\n",
    "    if ax is None:\n",
    "        plt.show()"
   ]
  },
  {
   "cell_type": "markdown",
   "metadata": {
    "id": "Zo96WMp-3jrF"
   },
   "source": [
    "We begin with the calibration period for which we have the largest number of events due to the presence of a source of radiation. This PSD plot is what we'll use to extract a simple psp threshold value that can be used to quickly discriminate between gammas (lower psp) and neutrons (higher psp).  "
   ]
  },
  {
   "cell_type": "code",
   "execution_count": null,
   "metadata": {
    "colab": {
     "base_uri": "https://localhost:8080/",
     "height": 564
    },
    "id": "GDJzrD8zmFV-",
    "outputId": "0322b42e-9792-480b-fd3b-0738504f911e"
   },
   "outputs": [
    {
     "data": {
      "image/png": "[encoded data removed]",
      "text/plain": [
       "<Figure size 1000x600 with 2 Axes>"
      ]
     },
     "metadata": {},
     "output_type": "display_data"
    }
   ],
   "source": [
    "if data_exists(\"Calibration\"):\n",
    "  plot_psd(psd_data[\"Calibration\"], psd_periods[\"Calibration\"], \"Calibration\")\n",
    "else:\n",
    "  print(\"‼️ Calibration data does not exist, cannot create PSD plot. ‼️\")\n"
   ]
  },
  {
   "cell_type": "markdown",
   "metadata": {
    "id": "77Je4rGQ4dAt"
   },
   "source": [
    "## Calculating the PSP threshold\n",
    "\n",
    "The most accurate way to discriminate between gammas and neutrons is to create a fiducial lines. For the purpose of eyeballing neutron/gamma counts during a live experiment, a simple threshold psp value can be a good enough.\n",
    "\n",
    "In this notebook, we'll trial two methods\n",
    "- midpoint method\n",
    "- Guassaian drop method\n",
    "\n",
    "For the midpoint method\n",
    "- Choose an energy value\n",
    "- Determine the psp locations of the gamma and neutron peaks\n",
    "- Take the half way point between the two values.\n",
    "\n",
    "For the Guassaian drop method\n",
    "- Fit the signals with Guassians\n",
    "- Find the psp value at which the gammas drop to some fraction of their peak, e.g. 0.1%\n",
    "\n",
    "We'll attempt the midpoint first and then if that fails, then we'll fallback to the Guassaian drop method."
   ]
  },
  {
   "cell_type": "code",
   "execution_count": null,
   "metadata": {
    "id": "awexRLhIuuFq"
   },
   "outputs": [],
   "source": [
    "def find_psp_midpoint(data, target_energy=500, prominence=10, energy_range=(0, 4000), psp_range=(0, 1), energy_bins=512, psp_bins=128):\n",
    "    # Step 1: Map target_energy to the closest energy_bin\n",
    "    bin_width = (energy_range[1] - energy_range[0]) / energy_bins  # 4000 / 512 = 7.8125\n",
    "    closest_energy_bin = int(round(target_energy / bin_width))\n",
    "    closest_energy_bin = max(1, min(closest_energy_bin, energy_bins))  # Clamp to [1, 512]\n",
    "    print(f\"Closest energy bin to {target_energy}: {closest_energy_bin}\")\n",
    "\n",
    "    # Step 2: Filter data for the closest energy_bin\n",
    "    filtered_data = data[data['energy_bin'] == closest_energy_bin]\n",
    "    if filtered_data.empty:\n",
    "        raise ValueError(f\"No data found for energy bin {closest_energy_bin} (energy ~{target_energy})\")\n",
    "\n",
    "    # Step 3: Prepare PSP distribution for peak detection\n",
    "    psp_bin_width = (psp_range[1] - psp_range[0]) / psp_bins  # 1 / 128 = 0.0078125\n",
    "\n",
    "    # Create a histogram-like array for the full PSP range\n",
    "    hist = np.zeros(psp_bins)\n",
    "    for idx, row in filtered_data.iterrows():\n",
    "        psp_bin = row['psp_bin'] - 1  # Convert to 0-based index (since psp_bin is 1 to 128)\n",
    "        count = row['count']\n",
    "        if 0 <= psp_bin < psp_bins:\n",
    "            hist[psp_bin] += count\n",
    "\n",
    "    # Find peaks using scipy.signal.find_peaks\n",
    "    peaks_indices, _ = find_peaks(hist, height=0, prominence=prominence)  # Adjust prominence as needed\n",
    "    if len(peaks_indices) < 2:\n",
    "        raise ValueError(\"Not enough significant peaks detected; adjust prominence or check data.\")\n",
    "\n",
    "    # Get the two highest peaks based on prominence\n",
    "    peak_indices_sorted = sorted(peaks_indices, key=lambda x: hist[x], reverse=True)[:2]\n",
    "    if len(peak_indices_sorted) < 2:\n",
    "        raise ValueError(\"Not enough prominent peaks to determine midpoint.\")\n",
    "\n",
    "    # Convert peak indices to PSP values\n",
    "    peak1_idx, peak2_idx = peak_indices_sorted[:2]\n",
    "    peak1_value = (peak1_idx + 0.5) * psp_bin_width  # Bin center\n",
    "    peak2_value = (peak2_idx + 0.5) * psp_bin_width  # Bin center\n",
    "    peak1_value, peak2_value = sorted([peak1_value, peak2_value])  # Ensure peak1 < peak2\n",
    "    print(f\"Peak PSP values: {peak1_value:.6f}, {peak2_value:.6f}\")\n",
    "\n",
    "    # Step 4: Calculate midpoint in PSP units\n",
    "    midpoint = (peak1_value + peak2_value) / 2\n",
    "    print(f\"Midpoint between PSP peaks: {midpoint:.6f}\")\n",
    "\n",
    "    # Step 5: Plot PSP distribution with peaks and midpoint\n",
    "    plt.figure(figsize=(8, 5))\n",
    "    psp_centers = np.arange(psp_bins) * psp_bin_width + psp_bin_width / 2  # Bin centers\n",
    "    plt.bar(psp_centers, hist, width=psp_bin_width, alpha=0.7)\n",
    "    plt.axvline(peak1_value, color='r', linestyle='--', label=f'Peak 1: {peak1_value:.3f}')\n",
    "    plt.axvline(peak2_value, color='g', linestyle='--', label=f'Peak 2: {peak2_value:.3f}')\n",
    "    plt.axvline(midpoint, color='b', label=f'Midpoint: {midpoint:.3f}')\n",
    "    plt.xlabel('PSP')\n",
    "    plt.ylabel('Count')\n",
    "    plt.title(f'PSP Distribution at Energy ~{target_energy}')\n",
    "    plt.legend()\n",
    "    plt.show()\n",
    "\n",
    "    return midpoint"
   ]
  },
  {
   "cell_type": "code",
   "execution_count": null,
   "metadata": {
    "id": "cOUD_wT1i3ac"
   },
   "outputs": [],
   "source": [
    "# --- Gaussian definitions ---\n",
    "def gaussian(x, amp, mu, sigma):\n",
    "    return amp * np.exp(-(x - mu)**2 / (2 * sigma**2))\n",
    "\n",
    "def double_gaussian(x, amp1, mu1, sigma1, amp2, mu2, sigma2):\n",
    "    return (gaussian(x, amp1, mu1, sigma1) +\n",
    "            gaussian(x, amp2, mu2, sigma2))\n",
    "\n",
    "def find_psp_threshold_gaussian(data, target_energy=500,\n",
    "                                     energy_range=(0, 4000), psp_range=(0, 1),\n",
    "                                     energy_bins=512, psp_bins=128,\n",
    "                                     plot=True, mean_tol=0.02, amp_ratio_tol=0.1,\n",
    "                                     drop_fraction=0.001):\n",
    "    \"\"\"\n",
    "    Fits Gaussian(s) to PSP distribution at a given energy and finds PSP threshold\n",
    "    where the lower Gaussian drops to 0.1% of its peak.\n",
    "    Falls back to single Gaussian if fitted Gaussians are too similar.\n",
    "    \"\"\"\n",
    "\n",
    "    # Step 1: Map energy to closest bin\n",
    "    bin_width_e = (energy_range[1] - energy_range[0]) / energy_bins\n",
    "    closest_energy_bin = int(round(target_energy / bin_width_e))\n",
    "    closest_energy_bin = max(1, min(closest_energy_bin, energy_bins))\n",
    "\n",
    "    # Step 2: Filter data for that energy bin\n",
    "    filtered = data[data['energy_bin'] == closest_energy_bin]\n",
    "    if filtered.empty:\n",
    "        raise ValueError(f\"No data for bin {closest_energy_bin} (~{target_energy})\")\n",
    "\n",
    "    # Step 3: Build histogram\n",
    "    psp_bin_width = (psp_range[1] - psp_range[0]) / psp_bins\n",
    "    hist = np.zeros(psp_bins)\n",
    "    for _, row in filtered.iterrows():\n",
    "        idx = row['psp_bin'] - 1\n",
    "        if 0 <= idx < psp_bins:\n",
    "            hist[idx] += row['count']\n",
    "\n",
    "    psp_centres = np.arange(psp_bins) * psp_bin_width + psp_bin_width / 2\n",
    "\n",
    "    # Step 4: Try to detect peaks\n",
    "    peaks, _ = find_peaks(hist, height=np.max(hist) * 0.05)\n",
    "    use_double = len(peaks) >= 2\n",
    "\n",
    "    if use_double:\n",
    "        # Initial guess: amplitudes, means, sigmas\n",
    "        p0 = [hist[peaks[0]], psp_centres[peaks[0]], 0.05,\n",
    "              hist[peaks[1]], psp_centres[peaks[1]], 0.05]\n",
    "        bounds = (0, [np.inf, 1, np.inf, np.inf, 1, np.inf])\n",
    "        popt, _ = curve_fit(double_gaussian, psp_centres, hist, p0=p0, bounds=bounds)\n",
    "        params = [(popt[0], popt[1], popt[2]), (popt[3], popt[4], popt[5])]\n",
    "\n",
    "        # Check if we should fall back to single Gaussian\n",
    "        mu_diff = abs(params[0][1] - params[1][1])\n",
    "        amp_ratio = min(params[0][0], params[1][0]) / max(params[0][0], params[1][0])\n",
    "        if mu_diff < mean_tol or amp_ratio < amp_ratio_tol:\n",
    "            use_double = False\n",
    "\n",
    "    if not use_double:\n",
    "        # Fit single Gaussian\n",
    "        p0 = [np.max(hist), psp_centres[np.argmax(hist)], 0.05]\n",
    "        bounds = (0, [np.inf, 1, np.inf])\n",
    "        popt, _ = curve_fit(gaussian, psp_centres, hist, p0=p0, bounds=bounds)\n",
    "        params = [tuple(popt)]\n",
    "\n",
    "    # Step 5: Select lower Gaussian (smallest mean)\n",
    "    lower_gauss = min(params, key=lambda p: p[1])\n",
    "    amp, mu, sigma = lower_gauss\n",
    "\n",
    "    # Step 6: Compute PSP threshold at 1% of peak\n",
    "    delta = np.sqrt(-2 * sigma**2 * np.log(drop_fraction))\n",
    "    psp_threshold = mu + delta  # right-side cutoff\n",
    "\n",
    "    # Step 7: Plot\n",
    "    if plot:\n",
    "        plt.figure(figsize=(8, 5))\n",
    "        plt.bar(psp_centres, hist, width=psp_bin_width, alpha=0.6, label=\"Data\")\n",
    "        if use_double:\n",
    "            plt.plot(psp_centres, double_gaussian(psp_centres, *popt), 'k-', label=\"Double Gaussian fit\")\n",
    "            for amp_i, mu_i, sigma_i in params:\n",
    "                plt.plot(psp_centres, gaussian(psp_centres, amp_i, mu_i, sigma_i), '--', label=f\"Gaussian μ={mu_i:.3f}\")\n",
    "        else:\n",
    "            plt.plot(psp_centres, gaussian(psp_centres, *params[0]), 'k-', label=\"Single Gaussian fit\")\n",
    "        plt.axvline(psp_threshold, color='r', linestyle='--', label=f\"Threshold={psp_threshold:.3f}\")\n",
    "        plt.xlabel('PSP')\n",
    "        plt.ylabel('Count')\n",
    "        plt.title(f'PSP Gaussian Fit at Energy ~{target_energy}')\n",
    "        plt.legend()\n",
    "        plt.show()\n",
    "\n",
    "    return psp_threshold\n"
   ]
  },
  {
   "cell_type": "markdown",
   "metadata": {
    "id": "t3i4sq1N5oUB"
   },
   "source": [
    "For this tutorial, we'll experiment with different energies for determining a rough psp thresold value:\n",
    "- Energy = 500 for the midpoint method\n",
    "- Energy = 100 for the Gaussian drop method"
   ]
  },
  {
   "cell_type": "code",
   "execution_count": null,
   "metadata": {
    "colab": {
     "base_uri": "https://localhost:8080/",
     "height": 522
    },
    "id": "COo7DxuTi7x1",
    "outputId": "fafacc49-42b8-4172-ab6f-cda4d12dd14b"
   },
   "outputs": [
    {
     "name": "stdout",
     "output_type": "stream",
     "text": [
      "Closest energy bin to 500: 64\n",
      "find_psp_midpoint failed, attemping find_psp_threshold_gaussian\n"
     ]
    },
    {
     "data": {
      "image/png": "[encoded data removed]",
      "text/plain": [
       "<Figure size 800x500 with 1 Axes>"
      ]
     },
     "metadata": {},
     "output_type": "display_data"
    }
   ],
   "source": [
    "\n",
    "if data_exists(\"Calibration\"):\n",
    "  try:\n",
    "    psp_threshold = find_psp_midpoint(psd_data[\"Calibration\"], target_energy = 500, prominence=5)\n",
    "  except:\n",
    "    print(\"find_psp_midpoint failed, attemping find_psp_threshold_gaussian\")\n",
    "    psp_threshold = find_psp_threshold_gaussian(psd_data[\"Calibration\"], target_energy=100, drop_fraction=0.001)\n",
    "else:\n",
    "  psp_threshold = None\n",
    "  print(\"‼️ Calibration data does not exist, cannot perform psp thresold analysis ‼️\")\n"
   ]
  },
  {
   "cell_type": "markdown",
   "metadata": {
    "id": "k3oLzeKc53Y4"
   },
   "source": [
    "Now that we have our threshold, we can remake the PSD plots to see if there is anything obviously wrong with the analysis."
   ]
  },
  {
   "cell_type": "code",
   "execution_count": null,
   "metadata": {
    "colab": {
     "base_uri": "https://localhost:8080/",
     "height": 564
    },
    "id": "GDItxFMPu7xY",
    "outputId": "ec105b3b-79e9-4624-e221-844f0a962f25"
   },
   "outputs": [
    {
     "data": {
      "image/png": "[encoded data removed]",
      "text/plain": [
       "<Figure size 1000x600 with 2 Axes>"
      ]
     },
     "metadata": {},
     "output_type": "display_data"
    }
   ],
   "source": [
    "if data_exists(\"Calibration\"):\n",
    "  plot_psd(psd_data[\"Calibration\"], psd_periods[\"Calibration\"], \"Calibration\", psp_threshold)\n",
    "else:\n",
    "  print(\"‼️ Calibration data does not exist, cannot create PSD plot ‼️\")"
   ]
  },
  {
   "cell_type": "markdown",
   "metadata": {
    "id": "tIsjeWlh6EuO"
   },
   "source": [
    "It can also be instructive to create the PSD plots for the background periods - we would not expect significant changes between the two. Here, we just eyeball them, but performing a statistical analysis will be the next step."
   ]
  },
  {
   "cell_type": "code",
   "execution_count": null,
   "metadata": {
    "colab": {
     "base_uri": "https://localhost:8080/",
     "height": 581
    },
    "id": "lqeyLIBawd9O",
    "outputId": "7e58e6a3-76ce-47c9-9644-f44fa38f1726"
   },
   "outputs": [
    {
     "name": "stdout",
     "output_type": "stream",
     "text": [
      "Background 2 data does not exist, plotting just Background 1 data\n"
     ]
    },
    {
     "data": {
      "image/png": "[encoded data removed]",
      "text/plain": [
       "<Figure size 1000x600 with 2 Axes>"
      ]
     },
     "metadata": {},
     "output_type": "display_data"
    }
   ],
   "source": [
    "if data_exists(\"Background 1\") and data_exists(\"Background 2\"):\n",
    "  fig, axes = plt.subplots(1, 2, figsize=(14, 5), squeeze=False)\n",
    "  axes = axes.flatten()  # Flatten for easy indexing\n",
    "  plot_psd(psd_data[\"Background 1\"], psd_periods[\"Background 1\"], 'Background 1', psp_threshold, ax=axes[0])\n",
    "  plot_psd(psd_data[\"Background 2\"], psd_periods[\"Background 2\"], 'Background 2', psp_threshold, ax=axes[1])\n",
    "elif data_exists(\"Background 1\"):\n",
    "  print(\"Background 2 data does not exist, plotting just Background 1 data\")\n",
    "  plot_psd(psd_data[\"Background 1\"], psd_periods[\"Background 1\"], 'Background 1', psp_threshold)\n",
    "elif data_exists(\"Background 2\"):\n",
    "  print(\"Background 1 data does not exist, plotting just Background 2 data\")\n",
    "  plot_psd(psd_data[\"Background 2\"], psd_periods[\"Background 2\"], 'Background 2', psp_threshold)\n",
    "else:\n",
    "  print(\"‼️ Background data does not exist, cannot create PSD plots ‼️\")"
   ]
  },
  {
   "cell_type": "markdown",
   "metadata": {
    "id": "X9aCY0ta6rdZ"
   },
   "source": [
    "And of course we can look at the experimental period."
   ]
  },
  {
   "cell_type": "code",
   "execution_count": null,
   "metadata": {
    "colab": {
     "base_uri": "https://localhost:8080/"
    },
    "id": "0mYMvYpTsdf1",
    "outputId": "c2d7f982-201e-4acb-90b2-bfc3418f06d1"
   },
   "outputs": [
    {
     "name": "stdout",
     "output_type": "stream",
     "text": [
      "‼️ Exeperiment data does not exist, cannot create PSD plot ‼️\n"
     ]
    }
   ],
   "source": [
    "if data_exists(\"Experiment\"):\n",
    "  plot_psd(psd_data[\"Experiment\"], psd_periods[\"Experiment\"], psp_threshold=psp_threshold)\n",
    "else:\n",
    "  print(\"‼️ Exeperiment data does not exist, cannot create PSD plot ‼️\")"
   ]
  },
  {
   "cell_type": "markdown",
   "metadata": {
    "id": "x8mWf6Sky1SA"
   },
   "source": [
    "Finally, we now update the master spreadsheet with the PSP threshold that will be used to gamma/neutron discrimination."
   ]
  },
  {
   "cell_type": "code",
   "execution_count": null,
   "metadata": {
    "colab": {
     "base_uri": "https://localhost:8080/"
    },
    "id": "fPphtneprA95",
    "outputId": "a1f5d94b-4b66-4bc4-abc0-656748972b0b"
   },
   "outputs": [
    {
     "name": "stdout",
     "output_type": "stream",
     "text": [
      "Google Sheet updated successfully.\n"
     ]
    }
   ],
   "source": [
    "if psp_threshold is not None and \"Calibration\" in psd_data:\n",
    "  # Calculate the row number (adjusting for header row)\n",
    "\n",
    "  row_num = row.index[0] + 2  # +2 because DataFrame index 0 maps to row 2 (header is row 1)\n",
    "  # Get the column position\n",
    "\n",
    "  col_position = df.columns.get_loc('psp threshold') + 1  # 1-based column number\n",
    "  # Update the specific cell\n",
    "\n",
    "  sheet.update_cell(row_num, col_position, psp_threshold)\n",
    "  print(\"Google Sheet updated successfully.\")\n",
    "else:\n",
    "  print(\"‼️ No psp threshold has been calculated. Nothing to upload to master sheet.\")"
   ]
  }
 ],
 "metadata": {
  "colab": {
   "include_colab_link": true,
   "provenance": []
  },
  "kernelspec": {
   "display_name": "Python 3",
   "name": "python3"
  },
  "language_info": {
   "name": "python"
  }
 },
 "nbformat": 4,
 "nbformat_minor": 0
}
